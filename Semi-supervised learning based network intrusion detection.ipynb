{
  "nbformat": 4,
  "nbformat_minor": 0,
  "metadata": {
    "colab": {
      "provenance": []
    },
    "kernelspec": {
      "name": "python3",
      "display_name": "Python 3"
    },
    "language_info": {
      "name": "python"
    }
  },
  "cells": [
    {
      "cell_type": "markdown",
      "source": [
        "#Graph-based label spreading, Self-Training & Transductive SVM semi-supervised learning to identify malicious attack category"
      ],
      "metadata": {
        "id": "n0DLE_h-P3U5"
      }
    },
    {
      "cell_type": "code",
      "execution_count": null,
      "metadata": {
        "id": "AE6Dv6cIwu8-"
      },
      "outputs": [],
      "source": [
        "import pandas as pd\n",
        "import numpy as np\n",
        "from sklearn.metrics import accuracy_score\n",
        "from sklearn.preprocessing import StandardScaler\n",
        "from sklearn.model_selection import train_test_split\n",
        "from sklearn.preprocessing import LabelEncoder\n"
      ]
    },
    {
      "cell_type": "markdown",
      "source": [
        "#Load Dataset\n"
      ],
      "metadata": {
        "id": "h3DRI1c6zihE"
      }
    },
    {
      "cell_type": "code",
      "source": [
        "train_data = pd.read_csv(\"/content/drive/MyDrive/Colab Notebooks/UNSW_NB15_training-set.csv\")\n",
        "test_data = pd.read_csv(\"/content/drive/MyDrive/Colab Notebooks/UNSW_NB15_testing-set.csv\")"
      ],
      "metadata": {
        "id": "vF9clfPwzhGc"
      },
      "execution_count": null,
      "outputs": []
    },
    {
      "cell_type": "code",
      "source": [
        "train_data.head()"
      ],
      "metadata": {
        "colab": {
          "base_uri": "https://localhost:8080/",
          "height": 256
        },
        "id": "_BWbv51I0Iwq",
        "outputId": "9610be66-5ac7-48da-9d4f-aff9f1f78303"
      },
      "execution_count": null,
      "outputs": [
        {
          "output_type": "execute_result",
          "data": {
            "text/plain": [
              "   id       dur proto service state  spkts  dpkts  sbytes  dbytes       rate  \\\n",
              "0   1  0.121478   tcp       -   FIN      6      4     258     172  74.087490   \n",
              "1   2  0.649902   tcp       -   FIN     14     38     734   42014  78.473372   \n",
              "2   3  1.623129   tcp       -   FIN      8     16     364   13186  14.170161   \n",
              "3   4  1.681642   tcp     ftp   FIN     12     12     628     770  13.677108   \n",
              "4   5  0.449454   tcp       -   FIN     10      6     534     268  33.373826   \n",
              "\n",
              "   ...  ct_dst_sport_ltm  ct_dst_src_ltm  is_ftp_login  ct_ftp_cmd  \\\n",
              "0  ...                 1               1             0           0   \n",
              "1  ...                 1               2             0           0   \n",
              "2  ...                 1               3             0           0   \n",
              "3  ...                 1               3             1           1   \n",
              "4  ...                 1              40             0           0   \n",
              "\n",
              "   ct_flw_http_mthd  ct_src_ltm  ct_srv_dst  is_sm_ips_ports  attack_cat  \\\n",
              "0                 0           1           1                0      Normal   \n",
              "1                 0           1           6                0      Normal   \n",
              "2                 0           2           6                0      Normal   \n",
              "3                 0           2           1                0      Normal   \n",
              "4                 0           2          39                0      Normal   \n",
              "\n",
              "   label  \n",
              "0      0  \n",
              "1      0  \n",
              "2      0  \n",
              "3      0  \n",
              "4      0  \n",
              "\n",
              "[5 rows x 45 columns]"
            ],
            "text/html": [
              "\n",
              "  <div id=\"df-5aad0502-441c-427a-a16e-819bc1ed38e0\" class=\"colab-df-container\">\n",
              "    <div>\n",
              "<style scoped>\n",
              "    .dataframe tbody tr th:only-of-type {\n",
              "        vertical-align: middle;\n",
              "    }\n",
              "\n",
              "    .dataframe tbody tr th {\n",
              "        vertical-align: top;\n",
              "    }\n",
              "\n",
              "    .dataframe thead th {\n",
              "        text-align: right;\n",
              "    }\n",
              "</style>\n",
              "<table border=\"1\" class=\"dataframe\">\n",
              "  <thead>\n",
              "    <tr style=\"text-align: right;\">\n",
              "      <th></th>\n",
              "      <th>id</th>\n",
              "      <th>dur</th>\n",
              "      <th>proto</th>\n",
              "      <th>service</th>\n",
              "      <th>state</th>\n",
              "      <th>spkts</th>\n",
              "      <th>dpkts</th>\n",
              "      <th>sbytes</th>\n",
              "      <th>dbytes</th>\n",
              "      <th>rate</th>\n",
              "      <th>...</th>\n",
              "      <th>ct_dst_sport_ltm</th>\n",
              "      <th>ct_dst_src_ltm</th>\n",
              "      <th>is_ftp_login</th>\n",
              "      <th>ct_ftp_cmd</th>\n",
              "      <th>ct_flw_http_mthd</th>\n",
              "      <th>ct_src_ltm</th>\n",
              "      <th>ct_srv_dst</th>\n",
              "      <th>is_sm_ips_ports</th>\n",
              "      <th>attack_cat</th>\n",
              "      <th>label</th>\n",
              "    </tr>\n",
              "  </thead>\n",
              "  <tbody>\n",
              "    <tr>\n",
              "      <th>0</th>\n",
              "      <td>1</td>\n",
              "      <td>0.121478</td>\n",
              "      <td>tcp</td>\n",
              "      <td>-</td>\n",
              "      <td>FIN</td>\n",
              "      <td>6</td>\n",
              "      <td>4</td>\n",
              "      <td>258</td>\n",
              "      <td>172</td>\n",
              "      <td>74.087490</td>\n",
              "      <td>...</td>\n",
              "      <td>1</td>\n",
              "      <td>1</td>\n",
              "      <td>0</td>\n",
              "      <td>0</td>\n",
              "      <td>0</td>\n",
              "      <td>1</td>\n",
              "      <td>1</td>\n",
              "      <td>0</td>\n",
              "      <td>Normal</td>\n",
              "      <td>0</td>\n",
              "    </tr>\n",
              "    <tr>\n",
              "      <th>1</th>\n",
              "      <td>2</td>\n",
              "      <td>0.649902</td>\n",
              "      <td>tcp</td>\n",
              "      <td>-</td>\n",
              "      <td>FIN</td>\n",
              "      <td>14</td>\n",
              "      <td>38</td>\n",
              "      <td>734</td>\n",
              "      <td>42014</td>\n",
              "      <td>78.473372</td>\n",
              "      <td>...</td>\n",
              "      <td>1</td>\n",
              "      <td>2</td>\n",
              "      <td>0</td>\n",
              "      <td>0</td>\n",
              "      <td>0</td>\n",
              "      <td>1</td>\n",
              "      <td>6</td>\n",
              "      <td>0</td>\n",
              "      <td>Normal</td>\n",
              "      <td>0</td>\n",
              "    </tr>\n",
              "    <tr>\n",
              "      <th>2</th>\n",
              "      <td>3</td>\n",
              "      <td>1.623129</td>\n",
              "      <td>tcp</td>\n",
              "      <td>-</td>\n",
              "      <td>FIN</td>\n",
              "      <td>8</td>\n",
              "      <td>16</td>\n",
              "      <td>364</td>\n",
              "      <td>13186</td>\n",
              "      <td>14.170161</td>\n",
              "      <td>...</td>\n",
              "      <td>1</td>\n",
              "      <td>3</td>\n",
              "      <td>0</td>\n",
              "      <td>0</td>\n",
              "      <td>0</td>\n",
              "      <td>2</td>\n",
              "      <td>6</td>\n",
              "      <td>0</td>\n",
              "      <td>Normal</td>\n",
              "      <td>0</td>\n",
              "    </tr>\n",
              "    <tr>\n",
              "      <th>3</th>\n",
              "      <td>4</td>\n",
              "      <td>1.681642</td>\n",
              "      <td>tcp</td>\n",
              "      <td>ftp</td>\n",
              "      <td>FIN</td>\n",
              "      <td>12</td>\n",
              "      <td>12</td>\n",
              "      <td>628</td>\n",
              "      <td>770</td>\n",
              "      <td>13.677108</td>\n",
              "      <td>...</td>\n",
              "      <td>1</td>\n",
              "      <td>3</td>\n",
              "      <td>1</td>\n",
              "      <td>1</td>\n",
              "      <td>0</td>\n",
              "      <td>2</td>\n",
              "      <td>1</td>\n",
              "      <td>0</td>\n",
              "      <td>Normal</td>\n",
              "      <td>0</td>\n",
              "    </tr>\n",
              "    <tr>\n",
              "      <th>4</th>\n",
              "      <td>5</td>\n",
              "      <td>0.449454</td>\n",
              "      <td>tcp</td>\n",
              "      <td>-</td>\n",
              "      <td>FIN</td>\n",
              "      <td>10</td>\n",
              "      <td>6</td>\n",
              "      <td>534</td>\n",
              "      <td>268</td>\n",
              "      <td>33.373826</td>\n",
              "      <td>...</td>\n",
              "      <td>1</td>\n",
              "      <td>40</td>\n",
              "      <td>0</td>\n",
              "      <td>0</td>\n",
              "      <td>0</td>\n",
              "      <td>2</td>\n",
              "      <td>39</td>\n",
              "      <td>0</td>\n",
              "      <td>Normal</td>\n",
              "      <td>0</td>\n",
              "    </tr>\n",
              "  </tbody>\n",
              "</table>\n",
              "<p>5 rows × 45 columns</p>\n",
              "</div>\n",
              "    <div class=\"colab-df-buttons\">\n",
              "\n",
              "  <div class=\"colab-df-container\">\n",
              "    <button class=\"colab-df-convert\" onclick=\"convertToInteractive('df-5aad0502-441c-427a-a16e-819bc1ed38e0')\"\n",
              "            title=\"Convert this dataframe to an interactive table.\"\n",
              "            style=\"display:none;\">\n",
              "\n",
              "  <svg xmlns=\"http://www.w3.org/2000/svg\" height=\"24px\" viewBox=\"0 -960 960 960\">\n",
              "    <path d=\"M120-120v-720h720v720H120Zm60-500h600v-160H180v160Zm220 220h160v-160H400v160Zm0 220h160v-160H400v160ZM180-400h160v-160H180v160Zm440 0h160v-160H620v160ZM180-180h160v-160H180v160Zm440 0h160v-160H620v160Z\"/>\n",
              "  </svg>\n",
              "    </button>\n",
              "\n",
              "  <style>\n",
              "    .colab-df-container {\n",
              "      display:flex;\n",
              "      gap: 12px;\n",
              "    }\n",
              "\n",
              "    .colab-df-convert {\n",
              "      background-color: #E8F0FE;\n",
              "      border: none;\n",
              "      border-radius: 50%;\n",
              "      cursor: pointer;\n",
              "      display: none;\n",
              "      fill: #1967D2;\n",
              "      height: 32px;\n",
              "      padding: 0 0 0 0;\n",
              "      width: 32px;\n",
              "    }\n",
              "\n",
              "    .colab-df-convert:hover {\n",
              "      background-color: #E2EBFA;\n",
              "      box-shadow: 0px 1px 2px rgba(60, 64, 67, 0.3), 0px 1px 3px 1px rgba(60, 64, 67, 0.15);\n",
              "      fill: #174EA6;\n",
              "    }\n",
              "\n",
              "    .colab-df-buttons div {\n",
              "      margin-bottom: 4px;\n",
              "    }\n",
              "\n",
              "    [theme=dark] .colab-df-convert {\n",
              "      background-color: #3B4455;\n",
              "      fill: #D2E3FC;\n",
              "    }\n",
              "\n",
              "    [theme=dark] .colab-df-convert:hover {\n",
              "      background-color: #434B5C;\n",
              "      box-shadow: 0px 1px 3px 1px rgba(0, 0, 0, 0.15);\n",
              "      filter: drop-shadow(0px 1px 2px rgba(0, 0, 0, 0.3));\n",
              "      fill: #FFFFFF;\n",
              "    }\n",
              "  </style>\n",
              "\n",
              "    <script>\n",
              "      const buttonEl =\n",
              "        document.querySelector('#df-5aad0502-441c-427a-a16e-819bc1ed38e0 button.colab-df-convert');\n",
              "      buttonEl.style.display =\n",
              "        google.colab.kernel.accessAllowed ? 'block' : 'none';\n",
              "\n",
              "      async function convertToInteractive(key) {\n",
              "        const element = document.querySelector('#df-5aad0502-441c-427a-a16e-819bc1ed38e0');\n",
              "        const dataTable =\n",
              "          await google.colab.kernel.invokeFunction('convertToInteractive',\n",
              "                                                    [key], {});\n",
              "        if (!dataTable) return;\n",
              "\n",
              "        const docLinkHtml = 'Like what you see? Visit the ' +\n",
              "          '<a target=\"_blank\" href=https://colab.research.google.com/notebooks/data_table.ipynb>data table notebook</a>'\n",
              "          + ' to learn more about interactive tables.';\n",
              "        element.innerHTML = '';\n",
              "        dataTable['output_type'] = 'display_data';\n",
              "        await google.colab.output.renderOutput(dataTable, element);\n",
              "        const docLink = document.createElement('div');\n",
              "        docLink.innerHTML = docLinkHtml;\n",
              "        element.appendChild(docLink);\n",
              "      }\n",
              "    </script>\n",
              "  </div>\n",
              "\n",
              "\n",
              "    <div id=\"df-b73f926d-e9da-44ba-b1de-9a13f4742fa1\">\n",
              "      <button class=\"colab-df-quickchart\" onclick=\"quickchart('df-b73f926d-e9da-44ba-b1de-9a13f4742fa1')\"\n",
              "                title=\"Suggest charts\"\n",
              "                style=\"display:none;\">\n",
              "\n",
              "<svg xmlns=\"http://www.w3.org/2000/svg\" height=\"24px\"viewBox=\"0 0 24 24\"\n",
              "     width=\"24px\">\n",
              "    <g>\n",
              "        <path d=\"M19 3H5c-1.1 0-2 .9-2 2v14c0 1.1.9 2 2 2h14c1.1 0 2-.9 2-2V5c0-1.1-.9-2-2-2zM9 17H7v-7h2v7zm4 0h-2V7h2v10zm4 0h-2v-4h2v4z\"/>\n",
              "    </g>\n",
              "</svg>\n",
              "      </button>\n",
              "\n",
              "<style>\n",
              "  .colab-df-quickchart {\n",
              "      --bg-color: #E8F0FE;\n",
              "      --fill-color: #1967D2;\n",
              "      --hover-bg-color: #E2EBFA;\n",
              "      --hover-fill-color: #174EA6;\n",
              "      --disabled-fill-color: #AAA;\n",
              "      --disabled-bg-color: #DDD;\n",
              "  }\n",
              "\n",
              "  [theme=dark] .colab-df-quickchart {\n",
              "      --bg-color: #3B4455;\n",
              "      --fill-color: #D2E3FC;\n",
              "      --hover-bg-color: #434B5C;\n",
              "      --hover-fill-color: #FFFFFF;\n",
              "      --disabled-bg-color: #3B4455;\n",
              "      --disabled-fill-color: #666;\n",
              "  }\n",
              "\n",
              "  .colab-df-quickchart {\n",
              "    background-color: var(--bg-color);\n",
              "    border: none;\n",
              "    border-radius: 50%;\n",
              "    cursor: pointer;\n",
              "    display: none;\n",
              "    fill: var(--fill-color);\n",
              "    height: 32px;\n",
              "    padding: 0;\n",
              "    width: 32px;\n",
              "  }\n",
              "\n",
              "  .colab-df-quickchart:hover {\n",
              "    background-color: var(--hover-bg-color);\n",
              "    box-shadow: 0 1px 2px rgba(60, 64, 67, 0.3), 0 1px 3px 1px rgba(60, 64, 67, 0.15);\n",
              "    fill: var(--button-hover-fill-color);\n",
              "  }\n",
              "\n",
              "  .colab-df-quickchart-complete:disabled,\n",
              "  .colab-df-quickchart-complete:disabled:hover {\n",
              "    background-color: var(--disabled-bg-color);\n",
              "    fill: var(--disabled-fill-color);\n",
              "    box-shadow: none;\n",
              "  }\n",
              "\n",
              "  .colab-df-spinner {\n",
              "    border: 2px solid var(--fill-color);\n",
              "    border-color: transparent;\n",
              "    border-bottom-color: var(--fill-color);\n",
              "    animation:\n",
              "      spin 1s steps(1) infinite;\n",
              "  }\n",
              "\n",
              "  @keyframes spin {\n",
              "    0% {\n",
              "      border-color: transparent;\n",
              "      border-bottom-color: var(--fill-color);\n",
              "      border-left-color: var(--fill-color);\n",
              "    }\n",
              "    20% {\n",
              "      border-color: transparent;\n",
              "      border-left-color: var(--fill-color);\n",
              "      border-top-color: var(--fill-color);\n",
              "    }\n",
              "    30% {\n",
              "      border-color: transparent;\n",
              "      border-left-color: var(--fill-color);\n",
              "      border-top-color: var(--fill-color);\n",
              "      border-right-color: var(--fill-color);\n",
              "    }\n",
              "    40% {\n",
              "      border-color: transparent;\n",
              "      border-right-color: var(--fill-color);\n",
              "      border-top-color: var(--fill-color);\n",
              "    }\n",
              "    60% {\n",
              "      border-color: transparent;\n",
              "      border-right-color: var(--fill-color);\n",
              "    }\n",
              "    80% {\n",
              "      border-color: transparent;\n",
              "      border-right-color: var(--fill-color);\n",
              "      border-bottom-color: var(--fill-color);\n",
              "    }\n",
              "    90% {\n",
              "      border-color: transparent;\n",
              "      border-bottom-color: var(--fill-color);\n",
              "    }\n",
              "  }\n",
              "</style>\n",
              "\n",
              "      <script>\n",
              "        async function quickchart(key) {\n",
              "          const quickchartButtonEl =\n",
              "            document.querySelector('#' + key + ' button');\n",
              "          quickchartButtonEl.disabled = true;  // To prevent multiple clicks.\n",
              "          quickchartButtonEl.classList.add('colab-df-spinner');\n",
              "          try {\n",
              "            const charts = await google.colab.kernel.invokeFunction(\n",
              "                'suggestCharts', [key], {});\n",
              "          } catch (error) {\n",
              "            console.error('Error during call to suggestCharts:', error);\n",
              "          }\n",
              "          quickchartButtonEl.classList.remove('colab-df-spinner');\n",
              "          quickchartButtonEl.classList.add('colab-df-quickchart-complete');\n",
              "        }\n",
              "        (() => {\n",
              "          let quickchartButtonEl =\n",
              "            document.querySelector('#df-b73f926d-e9da-44ba-b1de-9a13f4742fa1 button');\n",
              "          quickchartButtonEl.style.display =\n",
              "            google.colab.kernel.accessAllowed ? 'block' : 'none';\n",
              "        })();\n",
              "      </script>\n",
              "    </div>\n",
              "\n",
              "    </div>\n",
              "  </div>\n"
            ],
            "application/vnd.google.colaboratory.intrinsic+json": {
              "type": "dataframe",
              "variable_name": "train_data"
            }
          },
          "metadata": {},
          "execution_count": 3
        }
      ]
    },
    {
      "cell_type": "code",
      "source": [
        "test_data.head()"
      ],
      "metadata": {
        "colab": {
          "base_uri": "https://localhost:8080/",
          "height": 256
        },
        "id": "CDUcoxdt0Jlq",
        "outputId": "5d4618b2-a3bb-4d0d-d003-30fca9959ee4"
      },
      "execution_count": null,
      "outputs": [
        {
          "output_type": "execute_result",
          "data": {
            "text/plain": [
              "   id       dur proto service state  spkts  dpkts  sbytes  dbytes  \\\n",
              "0   1  0.000011   udp       -   INT      2      0     496       0   \n",
              "1   2  0.000008   udp       -   INT      2      0    1762       0   \n",
              "2   3  0.000005   udp       -   INT      2      0    1068       0   \n",
              "3   4  0.000006   udp       -   INT      2      0     900       0   \n",
              "4   5  0.000010   udp       -   INT      2      0    2126       0   \n",
              "\n",
              "          rate  ...  ct_dst_sport_ltm  ct_dst_src_ltm  is_ftp_login  \\\n",
              "0   90909.0902  ...                 1               2             0   \n",
              "1  125000.0003  ...                 1               2             0   \n",
              "2  200000.0051  ...                 1               3             0   \n",
              "3  166666.6608  ...                 1               3             0   \n",
              "4  100000.0025  ...                 1               3             0   \n",
              "\n",
              "   ct_ftp_cmd  ct_flw_http_mthd  ct_src_ltm  ct_srv_dst  is_sm_ips_ports  \\\n",
              "0           0                 0           1           2                0   \n",
              "1           0                 0           1           2                0   \n",
              "2           0                 0           1           3                0   \n",
              "3           0                 0           2           3                0   \n",
              "4           0                 0           2           3                0   \n",
              "\n",
              "   attack_cat  label  \n",
              "0      Normal      0  \n",
              "1      Normal      0  \n",
              "2      Normal      0  \n",
              "3      Normal      0  \n",
              "4      Normal      0  \n",
              "\n",
              "[5 rows x 45 columns]"
            ],
            "text/html": [
              "\n",
              "  <div id=\"df-195babc9-8ec1-4a06-9a3f-b0d02cd178be\" class=\"colab-df-container\">\n",
              "    <div>\n",
              "<style scoped>\n",
              "    .dataframe tbody tr th:only-of-type {\n",
              "        vertical-align: middle;\n",
              "    }\n",
              "\n",
              "    .dataframe tbody tr th {\n",
              "        vertical-align: top;\n",
              "    }\n",
              "\n",
              "    .dataframe thead th {\n",
              "        text-align: right;\n",
              "    }\n",
              "</style>\n",
              "<table border=\"1\" class=\"dataframe\">\n",
              "  <thead>\n",
              "    <tr style=\"text-align: right;\">\n",
              "      <th></th>\n",
              "      <th>id</th>\n",
              "      <th>dur</th>\n",
              "      <th>proto</th>\n",
              "      <th>service</th>\n",
              "      <th>state</th>\n",
              "      <th>spkts</th>\n",
              "      <th>dpkts</th>\n",
              "      <th>sbytes</th>\n",
              "      <th>dbytes</th>\n",
              "      <th>rate</th>\n",
              "      <th>...</th>\n",
              "      <th>ct_dst_sport_ltm</th>\n",
              "      <th>ct_dst_src_ltm</th>\n",
              "      <th>is_ftp_login</th>\n",
              "      <th>ct_ftp_cmd</th>\n",
              "      <th>ct_flw_http_mthd</th>\n",
              "      <th>ct_src_ltm</th>\n",
              "      <th>ct_srv_dst</th>\n",
              "      <th>is_sm_ips_ports</th>\n",
              "      <th>attack_cat</th>\n",
              "      <th>label</th>\n",
              "    </tr>\n",
              "  </thead>\n",
              "  <tbody>\n",
              "    <tr>\n",
              "      <th>0</th>\n",
              "      <td>1</td>\n",
              "      <td>0.000011</td>\n",
              "      <td>udp</td>\n",
              "      <td>-</td>\n",
              "      <td>INT</td>\n",
              "      <td>2</td>\n",
              "      <td>0</td>\n",
              "      <td>496</td>\n",
              "      <td>0</td>\n",
              "      <td>90909.0902</td>\n",
              "      <td>...</td>\n",
              "      <td>1</td>\n",
              "      <td>2</td>\n",
              "      <td>0</td>\n",
              "      <td>0</td>\n",
              "      <td>0</td>\n",
              "      <td>1</td>\n",
              "      <td>2</td>\n",
              "      <td>0</td>\n",
              "      <td>Normal</td>\n",
              "      <td>0</td>\n",
              "    </tr>\n",
              "    <tr>\n",
              "      <th>1</th>\n",
              "      <td>2</td>\n",
              "      <td>0.000008</td>\n",
              "      <td>udp</td>\n",
              "      <td>-</td>\n",
              "      <td>INT</td>\n",
              "      <td>2</td>\n",
              "      <td>0</td>\n",
              "      <td>1762</td>\n",
              "      <td>0</td>\n",
              "      <td>125000.0003</td>\n",
              "      <td>...</td>\n",
              "      <td>1</td>\n",
              "      <td>2</td>\n",
              "      <td>0</td>\n",
              "      <td>0</td>\n",
              "      <td>0</td>\n",
              "      <td>1</td>\n",
              "      <td>2</td>\n",
              "      <td>0</td>\n",
              "      <td>Normal</td>\n",
              "      <td>0</td>\n",
              "    </tr>\n",
              "    <tr>\n",
              "      <th>2</th>\n",
              "      <td>3</td>\n",
              "      <td>0.000005</td>\n",
              "      <td>udp</td>\n",
              "      <td>-</td>\n",
              "      <td>INT</td>\n",
              "      <td>2</td>\n",
              "      <td>0</td>\n",
              "      <td>1068</td>\n",
              "      <td>0</td>\n",
              "      <td>200000.0051</td>\n",
              "      <td>...</td>\n",
              "      <td>1</td>\n",
              "      <td>3</td>\n",
              "      <td>0</td>\n",
              "      <td>0</td>\n",
              "      <td>0</td>\n",
              "      <td>1</td>\n",
              "      <td>3</td>\n",
              "      <td>0</td>\n",
              "      <td>Normal</td>\n",
              "      <td>0</td>\n",
              "    </tr>\n",
              "    <tr>\n",
              "      <th>3</th>\n",
              "      <td>4</td>\n",
              "      <td>0.000006</td>\n",
              "      <td>udp</td>\n",
              "      <td>-</td>\n",
              "      <td>INT</td>\n",
              "      <td>2</td>\n",
              "      <td>0</td>\n",
              "      <td>900</td>\n",
              "      <td>0</td>\n",
              "      <td>166666.6608</td>\n",
              "      <td>...</td>\n",
              "      <td>1</td>\n",
              "      <td>3</td>\n",
              "      <td>0</td>\n",
              "      <td>0</td>\n",
              "      <td>0</td>\n",
              "      <td>2</td>\n",
              "      <td>3</td>\n",
              "      <td>0</td>\n",
              "      <td>Normal</td>\n",
              "      <td>0</td>\n",
              "    </tr>\n",
              "    <tr>\n",
              "      <th>4</th>\n",
              "      <td>5</td>\n",
              "      <td>0.000010</td>\n",
              "      <td>udp</td>\n",
              "      <td>-</td>\n",
              "      <td>INT</td>\n",
              "      <td>2</td>\n",
              "      <td>0</td>\n",
              "      <td>2126</td>\n",
              "      <td>0</td>\n",
              "      <td>100000.0025</td>\n",
              "      <td>...</td>\n",
              "      <td>1</td>\n",
              "      <td>3</td>\n",
              "      <td>0</td>\n",
              "      <td>0</td>\n",
              "      <td>0</td>\n",
              "      <td>2</td>\n",
              "      <td>3</td>\n",
              "      <td>0</td>\n",
              "      <td>Normal</td>\n",
              "      <td>0</td>\n",
              "    </tr>\n",
              "  </tbody>\n",
              "</table>\n",
              "<p>5 rows × 45 columns</p>\n",
              "</div>\n",
              "    <div class=\"colab-df-buttons\">\n",
              "\n",
              "  <div class=\"colab-df-container\">\n",
              "    <button class=\"colab-df-convert\" onclick=\"convertToInteractive('df-195babc9-8ec1-4a06-9a3f-b0d02cd178be')\"\n",
              "            title=\"Convert this dataframe to an interactive table.\"\n",
              "            style=\"display:none;\">\n",
              "\n",
              "  <svg xmlns=\"http://www.w3.org/2000/svg\" height=\"24px\" viewBox=\"0 -960 960 960\">\n",
              "    <path d=\"M120-120v-720h720v720H120Zm60-500h600v-160H180v160Zm220 220h160v-160H400v160Zm0 220h160v-160H400v160ZM180-400h160v-160H180v160Zm440 0h160v-160H620v160ZM180-180h160v-160H180v160Zm440 0h160v-160H620v160Z\"/>\n",
              "  </svg>\n",
              "    </button>\n",
              "\n",
              "  <style>\n",
              "    .colab-df-container {\n",
              "      display:flex;\n",
              "      gap: 12px;\n",
              "    }\n",
              "\n",
              "    .colab-df-convert {\n",
              "      background-color: #E8F0FE;\n",
              "      border: none;\n",
              "      border-radius: 50%;\n",
              "      cursor: pointer;\n",
              "      display: none;\n",
              "      fill: #1967D2;\n",
              "      height: 32px;\n",
              "      padding: 0 0 0 0;\n",
              "      width: 32px;\n",
              "    }\n",
              "\n",
              "    .colab-df-convert:hover {\n",
              "      background-color: #E2EBFA;\n",
              "      box-shadow: 0px 1px 2px rgba(60, 64, 67, 0.3), 0px 1px 3px 1px rgba(60, 64, 67, 0.15);\n",
              "      fill: #174EA6;\n",
              "    }\n",
              "\n",
              "    .colab-df-buttons div {\n",
              "      margin-bottom: 4px;\n",
              "    }\n",
              "\n",
              "    [theme=dark] .colab-df-convert {\n",
              "      background-color: #3B4455;\n",
              "      fill: #D2E3FC;\n",
              "    }\n",
              "\n",
              "    [theme=dark] .colab-df-convert:hover {\n",
              "      background-color: #434B5C;\n",
              "      box-shadow: 0px 1px 3px 1px rgba(0, 0, 0, 0.15);\n",
              "      filter: drop-shadow(0px 1px 2px rgba(0, 0, 0, 0.3));\n",
              "      fill: #FFFFFF;\n",
              "    }\n",
              "  </style>\n",
              "\n",
              "    <script>\n",
              "      const buttonEl =\n",
              "        document.querySelector('#df-195babc9-8ec1-4a06-9a3f-b0d02cd178be button.colab-df-convert');\n",
              "      buttonEl.style.display =\n",
              "        google.colab.kernel.accessAllowed ? 'block' : 'none';\n",
              "\n",
              "      async function convertToInteractive(key) {\n",
              "        const element = document.querySelector('#df-195babc9-8ec1-4a06-9a3f-b0d02cd178be');\n",
              "        const dataTable =\n",
              "          await google.colab.kernel.invokeFunction('convertToInteractive',\n",
              "                                                    [key], {});\n",
              "        if (!dataTable) return;\n",
              "\n",
              "        const docLinkHtml = 'Like what you see? Visit the ' +\n",
              "          '<a target=\"_blank\" href=https://colab.research.google.com/notebooks/data_table.ipynb>data table notebook</a>'\n",
              "          + ' to learn more about interactive tables.';\n",
              "        element.innerHTML = '';\n",
              "        dataTable['output_type'] = 'display_data';\n",
              "        await google.colab.output.renderOutput(dataTable, element);\n",
              "        const docLink = document.createElement('div');\n",
              "        docLink.innerHTML = docLinkHtml;\n",
              "        element.appendChild(docLink);\n",
              "      }\n",
              "    </script>\n",
              "  </div>\n",
              "\n",
              "\n",
              "    <div id=\"df-1e43f3f9-96a4-4821-923f-f47ea3561c19\">\n",
              "      <button class=\"colab-df-quickchart\" onclick=\"quickchart('df-1e43f3f9-96a4-4821-923f-f47ea3561c19')\"\n",
              "                title=\"Suggest charts\"\n",
              "                style=\"display:none;\">\n",
              "\n",
              "<svg xmlns=\"http://www.w3.org/2000/svg\" height=\"24px\"viewBox=\"0 0 24 24\"\n",
              "     width=\"24px\">\n",
              "    <g>\n",
              "        <path d=\"M19 3H5c-1.1 0-2 .9-2 2v14c0 1.1.9 2 2 2h14c1.1 0 2-.9 2-2V5c0-1.1-.9-2-2-2zM9 17H7v-7h2v7zm4 0h-2V7h2v10zm4 0h-2v-4h2v4z\"/>\n",
              "    </g>\n",
              "</svg>\n",
              "      </button>\n",
              "\n",
              "<style>\n",
              "  .colab-df-quickchart {\n",
              "      --bg-color: #E8F0FE;\n",
              "      --fill-color: #1967D2;\n",
              "      --hover-bg-color: #E2EBFA;\n",
              "      --hover-fill-color: #174EA6;\n",
              "      --disabled-fill-color: #AAA;\n",
              "      --disabled-bg-color: #DDD;\n",
              "  }\n",
              "\n",
              "  [theme=dark] .colab-df-quickchart {\n",
              "      --bg-color: #3B4455;\n",
              "      --fill-color: #D2E3FC;\n",
              "      --hover-bg-color: #434B5C;\n",
              "      --hover-fill-color: #FFFFFF;\n",
              "      --disabled-bg-color: #3B4455;\n",
              "      --disabled-fill-color: #666;\n",
              "  }\n",
              "\n",
              "  .colab-df-quickchart {\n",
              "    background-color: var(--bg-color);\n",
              "    border: none;\n",
              "    border-radius: 50%;\n",
              "    cursor: pointer;\n",
              "    display: none;\n",
              "    fill: var(--fill-color);\n",
              "    height: 32px;\n",
              "    padding: 0;\n",
              "    width: 32px;\n",
              "  }\n",
              "\n",
              "  .colab-df-quickchart:hover {\n",
              "    background-color: var(--hover-bg-color);\n",
              "    box-shadow: 0 1px 2px rgba(60, 64, 67, 0.3), 0 1px 3px 1px rgba(60, 64, 67, 0.15);\n",
              "    fill: var(--button-hover-fill-color);\n",
              "  }\n",
              "\n",
              "  .colab-df-quickchart-complete:disabled,\n",
              "  .colab-df-quickchart-complete:disabled:hover {\n",
              "    background-color: var(--disabled-bg-color);\n",
              "    fill: var(--disabled-fill-color);\n",
              "    box-shadow: none;\n",
              "  }\n",
              "\n",
              "  .colab-df-spinner {\n",
              "    border: 2px solid var(--fill-color);\n",
              "    border-color: transparent;\n",
              "    border-bottom-color: var(--fill-color);\n",
              "    animation:\n",
              "      spin 1s steps(1) infinite;\n",
              "  }\n",
              "\n",
              "  @keyframes spin {\n",
              "    0% {\n",
              "      border-color: transparent;\n",
              "      border-bottom-color: var(--fill-color);\n",
              "      border-left-color: var(--fill-color);\n",
              "    }\n",
              "    20% {\n",
              "      border-color: transparent;\n",
              "      border-left-color: var(--fill-color);\n",
              "      border-top-color: var(--fill-color);\n",
              "    }\n",
              "    30% {\n",
              "      border-color: transparent;\n",
              "      border-left-color: var(--fill-color);\n",
              "      border-top-color: var(--fill-color);\n",
              "      border-right-color: var(--fill-color);\n",
              "    }\n",
              "    40% {\n",
              "      border-color: transparent;\n",
              "      border-right-color: var(--fill-color);\n",
              "      border-top-color: var(--fill-color);\n",
              "    }\n",
              "    60% {\n",
              "      border-color: transparent;\n",
              "      border-right-color: var(--fill-color);\n",
              "    }\n",
              "    80% {\n",
              "      border-color: transparent;\n",
              "      border-right-color: var(--fill-color);\n",
              "      border-bottom-color: var(--fill-color);\n",
              "    }\n",
              "    90% {\n",
              "      border-color: transparent;\n",
              "      border-bottom-color: var(--fill-color);\n",
              "    }\n",
              "  }\n",
              "</style>\n",
              "\n",
              "      <script>\n",
              "        async function quickchart(key) {\n",
              "          const quickchartButtonEl =\n",
              "            document.querySelector('#' + key + ' button');\n",
              "          quickchartButtonEl.disabled = true;  // To prevent multiple clicks.\n",
              "          quickchartButtonEl.classList.add('colab-df-spinner');\n",
              "          try {\n",
              "            const charts = await google.colab.kernel.invokeFunction(\n",
              "                'suggestCharts', [key], {});\n",
              "          } catch (error) {\n",
              "            console.error('Error during call to suggestCharts:', error);\n",
              "          }\n",
              "          quickchartButtonEl.classList.remove('colab-df-spinner');\n",
              "          quickchartButtonEl.classList.add('colab-df-quickchart-complete');\n",
              "        }\n",
              "        (() => {\n",
              "          let quickchartButtonEl =\n",
              "            document.querySelector('#df-1e43f3f9-96a4-4821-923f-f47ea3561c19 button');\n",
              "          quickchartButtonEl.style.display =\n",
              "            google.colab.kernel.accessAllowed ? 'block' : 'none';\n",
              "        })();\n",
              "      </script>\n",
              "    </div>\n",
              "\n",
              "    </div>\n",
              "  </div>\n"
            ],
            "application/vnd.google.colaboratory.intrinsic+json": {
              "type": "dataframe",
              "variable_name": "test_data"
            }
          },
          "metadata": {},
          "execution_count": 4
        }
      ]
    },
    {
      "cell_type": "code",
      "source": [
        "train_data.info()"
      ],
      "metadata": {
        "colab": {
          "base_uri": "https://localhost:8080/"
        },
        "id": "VyOVuEQ90QOj",
        "outputId": "83ac6437-c9e8-41c5-a86b-7c0be0623475"
      },
      "execution_count": null,
      "outputs": [
        {
          "output_type": "stream",
          "name": "stdout",
          "text": [
            "<class 'pandas.core.frame.DataFrame'>\n",
            "RangeIndex: 175341 entries, 0 to 175340\n",
            "Data columns (total 45 columns):\n",
            " #   Column             Non-Null Count   Dtype  \n",
            "---  ------             --------------   -----  \n",
            " 0   id                 175341 non-null  int64  \n",
            " 1   dur                175341 non-null  float64\n",
            " 2   proto              175341 non-null  object \n",
            " 3   service            175341 non-null  object \n",
            " 4   state              175341 non-null  object \n",
            " 5   spkts              175341 non-null  int64  \n",
            " 6   dpkts              175341 non-null  int64  \n",
            " 7   sbytes             175341 non-null  int64  \n",
            " 8   dbytes             175341 non-null  int64  \n",
            " 9   rate               175341 non-null  float64\n",
            " 10  sttl               175341 non-null  int64  \n",
            " 11  dttl               175341 non-null  int64  \n",
            " 12  sload              175341 non-null  float64\n",
            " 13  dload              175341 non-null  float64\n",
            " 14  sloss              175341 non-null  int64  \n",
            " 15  dloss              175341 non-null  int64  \n",
            " 16  sinpkt             175341 non-null  float64\n",
            " 17  dinpkt             175341 non-null  float64\n",
            " 18  sjit               175341 non-null  float64\n",
            " 19  djit               175341 non-null  float64\n",
            " 20  swin               175341 non-null  int64  \n",
            " 21  stcpb              175341 non-null  int64  \n",
            " 22  dtcpb              175341 non-null  int64  \n",
            " 23  dwin               175341 non-null  int64  \n",
            " 24  tcprtt             175341 non-null  float64\n",
            " 25  synack             175341 non-null  float64\n",
            " 26  ackdat             175341 non-null  float64\n",
            " 27  smean              175341 non-null  int64  \n",
            " 28  dmean              175341 non-null  int64  \n",
            " 29  trans_depth        175341 non-null  int64  \n",
            " 30  response_body_len  175341 non-null  int64  \n",
            " 31  ct_srv_src         175341 non-null  int64  \n",
            " 32  ct_state_ttl       175341 non-null  int64  \n",
            " 33  ct_dst_ltm         175341 non-null  int64  \n",
            " 34  ct_src_dport_ltm   175341 non-null  int64  \n",
            " 35  ct_dst_sport_ltm   175341 non-null  int64  \n",
            " 36  ct_dst_src_ltm     175341 non-null  int64  \n",
            " 37  is_ftp_login       175341 non-null  int64  \n",
            " 38  ct_ftp_cmd         175341 non-null  int64  \n",
            " 39  ct_flw_http_mthd   175341 non-null  int64  \n",
            " 40  ct_src_ltm         175341 non-null  int64  \n",
            " 41  ct_srv_dst         175341 non-null  int64  \n",
            " 42  is_sm_ips_ports    175341 non-null  int64  \n",
            " 43  attack_cat         175341 non-null  object \n",
            " 44  label              175341 non-null  int64  \n",
            "dtypes: float64(11), int64(30), object(4)\n",
            "memory usage: 60.2+ MB\n"
          ]
        }
      ]
    },
    {
      "cell_type": "code",
      "source": [
        "test_data.info()"
      ],
      "metadata": {
        "colab": {
          "base_uri": "https://localhost:8080/"
        },
        "id": "4FhO027S0WEn",
        "outputId": "046c2a74-a3f1-4c25-ba58-eba99ec6fd42"
      },
      "execution_count": null,
      "outputs": [
        {
          "output_type": "stream",
          "name": "stdout",
          "text": [
            "<class 'pandas.core.frame.DataFrame'>\n",
            "RangeIndex: 82332 entries, 0 to 82331\n",
            "Data columns (total 45 columns):\n",
            " #   Column             Non-Null Count  Dtype  \n",
            "---  ------             --------------  -----  \n",
            " 0   id                 82332 non-null  int64  \n",
            " 1   dur                82332 non-null  float64\n",
            " 2   proto              82332 non-null  object \n",
            " 3   service            82332 non-null  object \n",
            " 4   state              82332 non-null  object \n",
            " 5   spkts              82332 non-null  int64  \n",
            " 6   dpkts              82332 non-null  int64  \n",
            " 7   sbytes             82332 non-null  int64  \n",
            " 8   dbytes             82332 non-null  int64  \n",
            " 9   rate               82332 non-null  float64\n",
            " 10  sttl               82332 non-null  int64  \n",
            " 11  dttl               82332 non-null  int64  \n",
            " 12  sload              82332 non-null  float64\n",
            " 13  dload              82332 non-null  float64\n",
            " 14  sloss              82332 non-null  int64  \n",
            " 15  dloss              82332 non-null  int64  \n",
            " 16  sinpkt             82332 non-null  float64\n",
            " 17  dinpkt             82332 non-null  float64\n",
            " 18  sjit               82332 non-null  float64\n",
            " 19  djit               82332 non-null  float64\n",
            " 20  swin               82332 non-null  int64  \n",
            " 21  stcpb              82332 non-null  int64  \n",
            " 22  dtcpb              82332 non-null  int64  \n",
            " 23  dwin               82332 non-null  int64  \n",
            " 24  tcprtt             82332 non-null  float64\n",
            " 25  synack             82332 non-null  float64\n",
            " 26  ackdat             82332 non-null  float64\n",
            " 27  smean              82332 non-null  int64  \n",
            " 28  dmean              82332 non-null  int64  \n",
            " 29  trans_depth        82332 non-null  int64  \n",
            " 30  response_body_len  82332 non-null  int64  \n",
            " 31  ct_srv_src         82332 non-null  int64  \n",
            " 32  ct_state_ttl       82332 non-null  int64  \n",
            " 33  ct_dst_ltm         82332 non-null  int64  \n",
            " 34  ct_src_dport_ltm   82332 non-null  int64  \n",
            " 35  ct_dst_sport_ltm   82332 non-null  int64  \n",
            " 36  ct_dst_src_ltm     82332 non-null  int64  \n",
            " 37  is_ftp_login       82332 non-null  int64  \n",
            " 38  ct_ftp_cmd         82332 non-null  int64  \n",
            " 39  ct_flw_http_mthd   82332 non-null  int64  \n",
            " 40  ct_src_ltm         82332 non-null  int64  \n",
            " 41  ct_srv_dst         82332 non-null  int64  \n",
            " 42  is_sm_ips_ports    82332 non-null  int64  \n",
            " 43  attack_cat         82332 non-null  object \n",
            " 44  label              82332 non-null  int64  \n",
            "dtypes: float64(11), int64(30), object(4)\n",
            "memory usage: 28.3+ MB\n"
          ]
        }
      ]
    },
    {
      "cell_type": "markdown",
      "source": [
        "#Data Preprocessing"
      ],
      "metadata": {
        "id": "q3wVH27O0kr8"
      }
    },
    {
      "cell_type": "code",
      "source": [
        "train_data = train_data.drop(['id','attack_cat'], axis=1)\n",
        "test_data = test_data.drop(['id','attack_cat'], axis=1)"
      ],
      "metadata": {
        "id": "p8Cb_A560anV"
      },
      "execution_count": null,
      "outputs": []
    },
    {
      "cell_type": "markdown",
      "source": [
        "#Missing Data percentage\n"
      ],
      "metadata": {
        "id": "ycjNVNXt3kEJ"
      }
    },
    {
      "cell_type": "code",
      "source": [
        "def get_numerical_summary(train_data):\n",
        "    total = train_data.shape[0]\n",
        "    missing_columns = [col for col in train_data.columns if train_data[col].isnull().sum() > 0]\n",
        "    missing_percent = {}\n",
        "    for col in missing_columns:\n",
        "        null_count = train_data[col].isnull().sum()\n",
        "        per = (null_count/total) * 100\n",
        "        missing_percent[col] = per\n",
        "        print(\"{} : {} ({}%)\".format(col, null_count, round(per, 3)))\n",
        "    return missing_percent\n",
        "\n",
        "missing_percent = get_numerical_summary(train_data)\n",
        "print(f'missing percentage of data for training data: ',missing_percent)\n",
        "\n",
        "\n",
        "def get_numerical_summary(test_data):\n",
        "    total = test_data.shape[0]\n",
        "    missing_columns = [col for col in test_data.columns if test_data[col].isnull().sum() > 0]\n",
        "    missing_percent = {}\n",
        "    for col in missing_columns:\n",
        "        null_count = test_data[col].isnull().sum()\n",
        "        per = (null_count/total) * 100\n",
        "        missing_percent[col] = per\n",
        "        print(\"{} : {} ({}%)\".format(col, null_count, round(per, 3)))\n",
        "    return missing_percent\n",
        "\n",
        "missing_percent = get_numerical_summary(test_data)\n",
        "print(f'missing percentage of data for test data: ',missing_percent)"
      ],
      "metadata": {
        "colab": {
          "base_uri": "https://localhost:8080/"
        },
        "id": "g1qu8WNj3UDL",
        "outputId": "79f77102-f9ea-44ac-d583-977c71806fb8"
      },
      "execution_count": null,
      "outputs": [
        {
          "output_type": "stream",
          "name": "stdout",
          "text": [
            "missing percentage of data for training data:  {}\n",
            "missing percentage of data for test data:  {}\n"
          ]
        }
      ]
    },
    {
      "cell_type": "markdown",
      "source": [
        "#Check Duplicate Rows\n"
      ],
      "metadata": {
        "id": "jwjIQ13u4cox"
      }
    },
    {
      "cell_type": "code",
      "source": [
        "# For train_data\n",
        "train_duplicates = train_data.duplicated().sum()\n",
        "print(f\"Number of duplicate rows in train_data: {train_duplicates}\")\n",
        "# For test_data\n",
        "test_duplicates = test_data.duplicated().sum()\n",
        "print(f\"Number of duplicate rows in test_data: {test_duplicates}\")\n",
        "\n",
        "\n",
        "# For train_data\n",
        "train_data.drop_duplicates(inplace=True)\n",
        "# For test_data\n",
        "test_data.drop_duplicates(inplace=True)\n",
        "\n",
        "\n",
        "# For train_data\n",
        "train_duplicates = train_data.duplicated().sum()\n",
        "print(f\"After dropping, Number of duplicate rows in train_data: {train_duplicates}\")\n",
        "# For test_data\n",
        "test_duplicates = test_data.duplicated().sum()\n",
        "print(f\"After dropping, Number of duplicate rows in test_data: {test_duplicates}\")"
      ],
      "metadata": {
        "colab": {
          "base_uri": "https://localhost:8080/"
        },
        "id": "EEaWNpDo3-We",
        "outputId": "6e03652f-6ac5-4620-a5c2-6d436d40613b"
      },
      "execution_count": null,
      "outputs": [
        {
          "output_type": "stream",
          "name": "stdout",
          "text": [
            "Number of duplicate rows in train_data: 74072\n",
            "Number of duplicate rows in test_data: 28380\n",
            "After dropping, Number of duplicate rows in train_data: 0\n",
            "After dropping, Number of duplicate rows in test_data: 0\n"
          ]
        }
      ]
    },
    {
      "cell_type": "markdown",
      "source": [
        "#Label Encoder"
      ],
      "metadata": {
        "id": "L83RUP6j6LY7"
      }
    },
    {
      "cell_type": "code",
      "source": [
        "from sklearn.preprocessing import LabelEncoder\n",
        "\n",
        "# Create a LabelEncoder object\n",
        "encoder = LabelEncoder()\n",
        "\n",
        "# Fit the encoder on the training data and transform it\n",
        "for column in ['proto', 'service', 'state']:\n",
        "    train_data[column] = encoder.fit_transform(train_data[column])\n",
        "    test_data[column] = encoder.fit_transform(test_data[column])\n",
        "\n",
        "\n",
        "print(train_data.state.unique())\n",
        "print(test_data.state.unique())\n",
        "\n",
        "print(train_data.proto.unique())\n",
        "print(test_data.proto.unique())\n",
        "\n",
        "print(train_data.service.unique())\n",
        "print(test_data.service.unique())"
      ],
      "metadata": {
        "colab": {
          "base_uri": "https://localhost:8080/"
        },
        "id": "GX35DhT25spR",
        "outputId": "113d3279-a928-4988-91c8-75c4fea5716e"
      },
      "execution_count": null,
      "outputs": [
        {
          "output_type": "stream",
          "name": "stdout",
          "text": [
            "[2 3 0 1 5 6 4 7 8]\n",
            "[4 3 5 0 2 6 1]\n",
            "[113 119   6  78  37  42  91  20  53  12 128  87 126  72  83  94  15 110\n",
            "  60 131  44 120  68   0  56  40   9 111  62  16  90 127 124  36  22  24\n",
            "   7  31  82 100  79  39 132  92  71  74  28  81  46  54  93  55 104  47\n",
            "  10 118 112  76 105   2  95  97  88  96  27   5  80  14 125  35 109  63\n",
            " 107 102  59 103  29  85  17 106  67  38 101   3  64  48  70  26  41 115\n",
            "   1  52  34  57  98 114  32  69  21  51 123  99 121 122  18  49  30  45\n",
            "  50 108   4   8  23  25  43  77  86 129  13  73  19  33  84 116 130  65\n",
            "  66  89  58  61  75 117  11]\n",
            "[117   6 111  41  77  95  32  30  44  49 106   4  13  23  25  76  85 127\n",
            "  72  19  33  83 114 115 128  64  65  57  88  74  67  66   0  37  20  38\n",
            " 113  51  96  52  55  39  68  34  90  70  73  99 112  53   3  54  12  91\n",
            "  50  61  92  16 126  86  10 108 125 122 116 120  75  22  24 110 103  63\n",
            "  71   7  47   2  69  26  82  31  40  81  87  94  11   8  42   9 109 121\n",
            "  46  15  60 124  98  97 129  43  89 118  28  59  27  79   5   1  45 102\n",
            "  14  56  78 123  62 130  21  35 107 105 119 100 101  58  84  29  17  18\n",
            "  93  48  80 104  36]\n",
            "[ 0  3  9 10  5  4  2 11  8  7  1 12  6]\n",
            "[ 0  5  3  4  9  7  2 10 12  1  6  8 11]\n"
          ]
        }
      ]
    },
    {
      "cell_type": "markdown",
      "source": [
        "#converting datatypes from int64 to int32\n"
      ],
      "metadata": {
        "id": "kL4J2srgVntO"
      }
    },
    {
      "cell_type": "code",
      "source": [
        "# For train_data\n",
        "for col in train_data.select_dtypes(include=['int64']).columns:\n",
        "    train_data[col] = train_data[col].astype('int32')\n",
        "for col in train_data.select_dtypes(include=['float64']).columns:\n",
        "    train_data[col] = train_data[col].astype('float32')\n",
        "\n",
        "# For test_data\n",
        "for col in test_data.select_dtypes(include=['int64']).columns:\n",
        "    test_data[col] = test_data[col].astype('int32')\n",
        "for col in test_data.select_dtypes(include=['float64']).columns:\n",
        "    test_data[col] = test_data[col].astype('float32')"
      ],
      "metadata": {
        "id": "qNf2EdciUpsM"
      },
      "execution_count": null,
      "outputs": []
    },
    {
      "cell_type": "markdown",
      "source": [
        "#Drop Target Variable"
      ],
      "metadata": {
        "id": "hltfEtXt8kDD"
      }
    },
    {
      "cell_type": "code",
      "source": [
        "# Extract target variables before dropping the 'label' column\n",
        "y_train = train_data['label']  # Target variable\n",
        "y_test = test_data['label']\n",
        "\n",
        "# Now, drop the 'label' column for feature data\n",
        "X_train = train_data.drop(columns=['label'])  # Features for training\n",
        "X_test = test_data.drop(columns=['label'])  # Features for testing"
      ],
      "metadata": {
        "id": "GMDStw-H7vrn"
      },
      "execution_count": null,
      "outputs": []
    },
    {
      "cell_type": "code",
      "source": [
        "print(f'train data shape: ',X_train.shape)\n",
        "print(f'test data shape: ',X_test.shape)\n",
        "print(f'target data shape: ',y_train.shape)\n",
        "print(f'predict data shape: ',y_test.shape)"
      ],
      "metadata": {
        "colab": {
          "base_uri": "https://localhost:8080/"
        },
        "id": "QVWQ5gJYngts",
        "outputId": "8a00977a-155a-4b07-b217-7bab1b5bc145"
      },
      "execution_count": null,
      "outputs": [
        {
          "output_type": "stream",
          "name": "stdout",
          "text": [
            "train data shape:  (101269, 42)\n",
            "test data shape:  (53952, 42)\n",
            "target data shape:  (101269,)\n",
            "predict data shape:  (53952,)\n"
          ]
        }
      ]
    },
    {
      "cell_type": "markdown",
      "source": [
        "#Standardization"
      ],
      "metadata": {
        "id": "y-EuIKOo88zN"
      }
    },
    {
      "cell_type": "code",
      "source": [
        "from sklearn.preprocessing import StandardScaler\n",
        "\n",
        "\n",
        "# Create a StandardScaler object\n",
        "scaler = StandardScaler()\n",
        "\n",
        "# Fit the scaler on the training data and transform it\n",
        "train_data_scaled = scaler.fit_transform(X_train.select_dtypes(include=np.number))\n",
        "\n",
        "# Transform the test data using the fitted scaler\n",
        "test_data_scaled = scaler.fit_transform(X_test.select_dtypes(include=np.number))\n",
        "\n",
        "# Convert the scaled data back to DataFrames\n",
        "train_data_scaled = pd.DataFrame(train_data_scaled, columns=X_train.select_dtypes(include=np.number).columns, index=X_train.index)\n",
        "test_data_scaled = pd.DataFrame(test_data_scaled, columns=X_test.select_dtypes(include=np.number).columns, index=X_test.index)\n",
        "\n",
        "\n",
        "# Update the original DataFrames with scaled numerical features\n",
        "X_train.update(train_data_scaled)\n",
        "X_test.update(test_data_scaled)\n"
      ],
      "metadata": {
        "id": "S6yT3XQeVrCv",
        "colab": {
          "base_uri": "https://localhost:8080/"
        },
        "outputId": "f2bf3092-94bc-4515-b247-a0846b4ac89a"
      },
      "execution_count": null,
      "outputs": [
        {
          "output_type": "stream",
          "name": "stderr",
          "text": [
            "<ipython-input-14-094327b233c7>:19: FutureWarning: Setting an item of incompatible dtype is deprecated and will raise in a future error of pandas. Value '[-0.23091591 -0.12401522  0.07286956 ... -0.0538975   0.05951688\n",
            " -0.15317489]' has dtype incompatible with float32, please explicitly cast to a compatible dtype first.\n",
            "  X_train.update(train_data_scaled)\n",
            "<ipython-input-14-094327b233c7>:19: FutureWarning: Setting an item of incompatible dtype is deprecated and will raise in a future error of pandas. Value '[-0.02467396 -0.02467396 -0.02467396 ... -0.02467396 -0.02467396\n",
            " -0.02467396]' has dtype incompatible with int32, please explicitly cast to a compatible dtype first.\n",
            "  X_train.update(train_data_scaled)\n",
            "<ipython-input-14-094327b233c7>:19: FutureWarning: Setting an item of incompatible dtype is deprecated and will raise in a future error of pandas. Value '[-0.70877959 -0.70877959 -0.70877959 ...  1.78019484  2.49133039\n",
            " -0.70877959]' has dtype incompatible with int32, please explicitly cast to a compatible dtype first.\n",
            "  X_train.update(train_data_scaled)\n",
            "<ipython-input-14-094327b233c7>:19: FutureWarning: Setting an item of incompatible dtype is deprecated and will raise in a future error of pandas. Value '[0.09817341 0.09817341 0.09817341 ... 0.09817341 0.09817341 0.09817341]' has dtype incompatible with int32, please explicitly cast to a compatible dtype first.\n",
            "  X_train.update(train_data_scaled)\n",
            "<ipython-input-14-094327b233c7>:19: FutureWarning: Setting an item of incompatible dtype is deprecated and will raise in a future error of pandas. Value '[-0.14357271 -0.09878906 -0.1323768  ... -0.06520132 -0.02041768\n",
            " -0.12118088]' has dtype incompatible with int32, please explicitly cast to a compatible dtype first.\n",
            "  X_train.update(train_data_scaled)\n",
            "<ipython-input-14-094327b233c7>:19: FutureWarning: Setting an item of incompatible dtype is deprecated and will raise in a future error of pandas. Value '[-0.20157986  0.04512282 -0.11450832 ... -0.01292487 -0.07097256\n",
            " -0.17255601]' has dtype incompatible with int32, please explicitly cast to a compatible dtype first.\n",
            "  X_train.update(train_data_scaled)\n",
            "<ipython-input-14-094327b233c7>:19: FutureWarning: Setting an item of incompatible dtype is deprecated and will raise in a future error of pandas. Value '[-0.06236447 -0.06029111 -0.06190276 ... -0.05938511 -0.00860093\n",
            " -0.06078767]' has dtype incompatible with int32, please explicitly cast to a compatible dtype first.\n",
            "  X_train.update(train_data_scaled)\n",
            "<ipython-input-14-094327b233c7>:19: FutureWarning: Setting an item of incompatible dtype is deprecated and will raise in a future error of pandas. Value '[-0.13779078  0.09432651 -0.06559599 ... -0.04619093 -0.12790518\n",
            " -0.13678114]' has dtype incompatible with int32, please explicitly cast to a compatible dtype first.\n",
            "  X_train.update(train_data_scaled)\n",
            "<ipython-input-14-094327b233c7>:19: FutureWarning: Setting an item of incompatible dtype is deprecated and will raise in a future error of pandas. Value '[-0.28572708 -0.2856845  -0.28630867 ... -0.28596892 -0.28614076\n",
            " -0.28611995]' has dtype incompatible with float32, please explicitly cast to a compatible dtype first.\n",
            "  X_train.update(train_data_scaled)\n",
            "<ipython-input-14-094327b233c7>:19: FutureWarning: Setting an item of incompatible dtype is deprecated and will raise in a future error of pandas. Value '[ 1.07796198 -0.69188044 -0.69188044 ... -0.69188044 -0.69188044\n",
            "  1.0965919 ]' has dtype incompatible with int32, please explicitly cast to a compatible dtype first.\n",
            "  X_train.update(train_data_scaled)\n",
            "<ipython-input-14-094327b233c7>:19: FutureWarning: Setting an item of incompatible dtype is deprecated and will raise in a future error of pandas. Value '[1.08380056 1.06647874 1.06647874 ... 1.06647874 1.06647874 1.06647874]' has dtype incompatible with int32, please explicitly cast to a compatible dtype first.\n",
            "  X_train.update(train_data_scaled)\n",
            "<ipython-input-14-094327b233c7>:19: FutureWarning: Setting an item of incompatible dtype is deprecated and will raise in a future error of pandas. Value '[-0.2045336  -0.20456075 -0.20459289 ... -0.20456645 -0.20430623\n",
            " -0.20455872]' has dtype incompatible with float32, please explicitly cast to a compatible dtype first.\n",
            "  X_train.update(train_data_scaled)\n",
            "<ipython-input-14-094327b233c7>:19: FutureWarning: Setting an item of incompatible dtype is deprecated and will raise in a future error of pandas. Value '[-0.37154608 -0.21161767 -0.35460794 ... -0.33246447 -0.37119347\n",
            " -0.37270639]' has dtype incompatible with float32, please explicitly cast to a compatible dtype first.\n",
            "  X_train.update(train_data_scaled)\n",
            "<ipython-input-14-094327b233c7>:19: FutureWarning: Setting an item of incompatible dtype is deprecated and will raise in a future error of pandas. Value '[-0.09691309 -0.07383283 -0.08537296 ... -0.01613218  0.03002834\n",
            " -0.07383283]' has dtype incompatible with int32, please explicitly cast to a compatible dtype first.\n",
            "  X_train.update(train_data_scaled)\n",
            "<ipython-input-14-094327b233c7>:19: FutureWarning: Setting an item of incompatible dtype is deprecated and will raise in a future error of pandas. Value '[-0.176148    0.08157922 -0.08518545 ...  0.02093752 -0.0548646\n",
            " -0.16098757]' has dtype incompatible with int32, please explicitly cast to a compatible dtype first.\n",
            "  X_train.update(train_data_scaled)\n",
            "<ipython-input-14-094327b233c7>:19: FutureWarning: Setting an item of incompatible dtype is deprecated and will raise in a future error of pandas. Value '[-0.09424863 -0.08863056 -0.04872855 ... -0.08807521 -0.08692969\n",
            " -0.08764703]' has dtype incompatible with float32, please explicitly cast to a compatible dtype first.\n",
            "  X_train.update(train_data_scaled)\n",
            "<ipython-input-14-094327b233c7>:19: FutureWarning: Setting an item of incompatible dtype is deprecated and will raise in a future error of pandas. Value '[-0.09293811 -0.08665387 -0.00891916 ... -0.07017768 -0.03478116\n",
            " -0.04075643]' has dtype incompatible with float32, please explicitly cast to a compatible dtype first.\n",
            "  X_train.update(train_data_scaled)\n",
            "<ipython-input-14-094327b233c7>:19: FutureWarning: Setting an item of incompatible dtype is deprecated and will raise in a future error of pandas. Value '[-0.13697483 -0.13622911  0.27227476 ... -0.06597823 -0.05032462\n",
            " -0.04889624]' has dtype incompatible with float32, please explicitly cast to a compatible dtype first.\n",
            "  X_train.update(train_data_scaled)\n",
            "<ipython-input-14-094327b233c7>:19: FutureWarning: Setting an item of incompatible dtype is deprecated and will raise in a future error of pandas. Value '[-0.17397133  0.10385536  2.12971437 ...  0.32429154 -0.15366105\n",
            " -0.15209424]' has dtype incompatible with float32, please explicitly cast to a compatible dtype first.\n",
            "  X_train.update(train_data_scaled)\n",
            "<ipython-input-14-094327b233c7>:19: FutureWarning: Setting an item of incompatible dtype is deprecated and will raise in a future error of pandas. Value '[0.57492813 0.57492813 0.57492813 ... 0.57492813 0.57492813 0.57492813]' has dtype incompatible with int32, please explicitly cast to a compatible dtype first.\n",
            "  X_train.update(train_data_scaled)\n",
            "<ipython-input-14-094327b233c7>:19: FutureWarning: Setting an item of incompatible dtype is deprecated and will raise in a future error of pandas. Value '[ 0.58341707  1.32718586  1.97954284 ...  0.0077609   1.8075549\n",
            " -0.72263349]' has dtype incompatible with int32, please explicitly cast to a compatible dtype first.\n",
            "  X_train.update(train_data_scaled)\n",
            "<ipython-input-14-094327b233c7>:19: FutureWarning: Setting an item of incompatible dtype is deprecated and will raise in a future error of pandas. Value '[-1.95522393 -1.13777201 -1.24454713 ...  0.53743009 -1.70322977\n",
            " -0.78671894]' has dtype incompatible with int32, please explicitly cast to a compatible dtype first.\n",
            "  X_train.update(train_data_scaled)\n",
            "<ipython-input-14-094327b233c7>:19: FutureWarning: Setting an item of incompatible dtype is deprecated and will raise in a future error of pandas. Value '[0.58383729 0.58383729 0.58383729 ... 0.58383729 0.58383729 0.58383729]' has dtype incompatible with int32, please explicitly cast to a compatible dtype first.\n",
            "  X_train.update(train_data_scaled)\n",
            "<ipython-input-14-094327b233c7>:19: FutureWarning: Setting an item of incompatible dtype is deprecated and will raise in a future error of pandas. Value '[-0.72480618 -0.72480618  0.4879522  ... -0.23714286 -0.23560384\n",
            "  0.35294117]' has dtype incompatible with float32, please explicitly cast to a compatible dtype first.\n",
            "  X_train.update(train_data_scaled)\n",
            "<ipython-input-14-094327b233c7>:19: FutureWarning: Setting an item of incompatible dtype is deprecated and will raise in a future error of pandas. Value '[-0.66338598 -0.66338598  0.53708149 ... -0.51950489 -0.49596747\n",
            "  0.05728907]' has dtype incompatible with float32, please explicitly cast to a compatible dtype first.\n",
            "  X_train.update(train_data_scaled)\n",
            "<ipython-input-14-094327b233c7>:19: FutureWarning: Setting an item of incompatible dtype is deprecated and will raise in a future error of pandas. Value '[-0.69433423 -0.69433423  0.3697208  ...  0.09948261  0.07705768\n",
            "  0.62510754]' has dtype incompatible with float32, please explicitly cast to a compatible dtype first.\n",
            "  X_train.update(train_data_scaled)\n",
            "<ipython-input-14-094327b233c7>:19: FutureWarning: Setting an item of incompatible dtype is deprecated and will raise in a future error of pandas. Value '[-0.5191105  -0.48363146 -0.50728416 ... -0.50334204  1.08533075\n",
            " -0.4442103 ]' has dtype incompatible with int32, please explicitly cast to a compatible dtype first.\n",
            "  X_train.update(train_data_scaled)\n",
            "<ipython-input-14-094327b233c7>:19: FutureWarning: Setting an item of incompatible dtype is deprecated and will raise in a future error of pandas. Value '[-0.53441588  2.89987436  1.98880206 ...  1.12296031 -0.38580125\n",
            " -0.53118513]' has dtype incompatible with int32, please explicitly cast to a compatible dtype first.\n",
            "  X_train.update(train_data_scaled)\n",
            "<ipython-input-14-094327b233c7>:19: FutureWarning: Setting an item of incompatible dtype is deprecated and will raise in a future error of pandas. Value '[-0.17478817 -0.17478817 -0.17478817 ... -0.17478817 -0.17478817\n",
            " -0.17478817]' has dtype incompatible with int32, please explicitly cast to a compatible dtype first.\n",
            "  X_train.update(train_data_scaled)\n",
            "<ipython-input-14-094327b233c7>:19: FutureWarning: Setting an item of incompatible dtype is deprecated and will raise in a future error of pandas. Value '[-0.05276019 -0.05276019 -0.05276019 ... -0.05276019 -0.05276019\n",
            " -0.05276019]' has dtype incompatible with int32, please explicitly cast to a compatible dtype first.\n",
            "  X_train.update(train_data_scaled)\n",
            "<ipython-input-14-094327b233c7>:19: FutureWarning: Setting an item of incompatible dtype is deprecated and will raise in a future error of pandas. Value '[-0.63933688  5.89608325  0.29429456 ... -0.63933688 -0.63933688\n",
            " -0.63933688]' has dtype incompatible with int32, please explicitly cast to a compatible dtype first.\n",
            "  X_train.update(train_data_scaled)\n",
            "<ipython-input-14-094327b233c7>:19: FutureWarning: Setting an item of incompatible dtype is deprecated and will raise in a future error of pandas. Value '[-0.94938212  0.23549104  0.23549104 ...  0.23549104  0.23549104\n",
            "  0.23549104]' has dtype incompatible with int32, please explicitly cast to a compatible dtype first.\n",
            "  X_train.update(train_data_scaled)\n",
            "<ipython-input-14-094327b233c7>:19: FutureWarning: Setting an item of incompatible dtype is deprecated and will raise in a future error of pandas. Value '[-0.51651238 -0.51651238 -0.27392837 ... -0.51651238 -0.27392837\n",
            " -0.51651238]' has dtype incompatible with int32, please explicitly cast to a compatible dtype first.\n",
            "  X_train.update(train_data_scaled)\n",
            "<ipython-input-14-094327b233c7>:19: FutureWarning: Setting an item of incompatible dtype is deprecated and will raise in a future error of pandas. Value '[-0.2817979 -0.2817979 -0.2817979 ... -0.2817979 -0.2817979 -0.2817979]' has dtype incompatible with int32, please explicitly cast to a compatible dtype first.\n",
            "  X_train.update(train_data_scaled)\n",
            "<ipython-input-14-094327b233c7>:19: FutureWarning: Setting an item of incompatible dtype is deprecated and will raise in a future error of pandas. Value '[-0.18466458 -0.18466458 -0.18466458 ... -0.18466458 -0.18466458\n",
            " -0.18466458]' has dtype incompatible with int32, please explicitly cast to a compatible dtype first.\n",
            "  X_train.update(train_data_scaled)\n",
            "<ipython-input-14-094327b233c7>:19: FutureWarning: Setting an item of incompatible dtype is deprecated and will raise in a future error of pandas. Value '[-0.46796884 -0.3081878  -0.14840676 ... -0.46796884 -0.3081878\n",
            " -0.3081878 ]' has dtype incompatible with int32, please explicitly cast to a compatible dtype first.\n",
            "  X_train.update(train_data_scaled)\n",
            "<ipython-input-14-094327b233c7>:19: FutureWarning: Setting an item of incompatible dtype is deprecated and will raise in a future error of pandas. Value '[-0.13446057 -0.13446057 -0.13446057 ... -0.13446057 -0.13446057\n",
            " -0.13446057]' has dtype incompatible with int32, please explicitly cast to a compatible dtype first.\n",
            "  X_train.update(train_data_scaled)\n",
            "<ipython-input-14-094327b233c7>:19: FutureWarning: Setting an item of incompatible dtype is deprecated and will raise in a future error of pandas. Value '[-0.13446057 -0.13446057 -0.13446057 ... -0.13446057 -0.13446057\n",
            " -0.13446057]' has dtype incompatible with int32, please explicitly cast to a compatible dtype first.\n",
            "  X_train.update(train_data_scaled)\n",
            "<ipython-input-14-094327b233c7>:19: FutureWarning: Setting an item of incompatible dtype is deprecated and will raise in a future error of pandas. Value '[-0.32388553 -0.32388553 -0.32388553 ... -0.32388553 -0.32388553\n",
            " -0.32388553]' has dtype incompatible with int32, please explicitly cast to a compatible dtype first.\n",
            "  X_train.update(train_data_scaled)\n",
            "<ipython-input-14-094327b233c7>:19: FutureWarning: Setting an item of incompatible dtype is deprecated and will raise in a future error of pandas. Value '[-0.5777337 -0.5777337 -0.3760629 ...  0.6322911 -0.3760629 -0.5777337]' has dtype incompatible with int32, please explicitly cast to a compatible dtype first.\n",
            "  X_train.update(train_data_scaled)\n",
            "<ipython-input-14-094327b233c7>:19: FutureWarning: Setting an item of incompatible dtype is deprecated and will raise in a future error of pandas. Value '[-0.59566069  0.19207293  0.19207293 ... -0.59566069 -0.59566069\n",
            " -0.59566069]' has dtype incompatible with int32, please explicitly cast to a compatible dtype first.\n",
            "  X_train.update(train_data_scaled)\n",
            "<ipython-input-14-094327b233c7>:19: FutureWarning: Setting an item of incompatible dtype is deprecated and will raise in a future error of pandas. Value '[-0.07355831 -0.07355831 -0.07355831 ... -0.07355831 -0.07355831\n",
            " -0.07355831]' has dtype incompatible with int32, please explicitly cast to a compatible dtype first.\n",
            "  X_train.update(train_data_scaled)\n",
            "<ipython-input-14-094327b233c7>:20: FutureWarning: Setting an item of incompatible dtype is deprecated and will raise in a future error of pandas. Value '[-0.26083894 -0.2608397  -0.26084047 ...  1.05793557 -0.26084047\n",
            "  0.02144686]' has dtype incompatible with float32, please explicitly cast to a compatible dtype first.\n",
            "  X_test.update(test_data_scaled)\n",
            "<ipython-input-14-094327b233c7>:20: FutureWarning: Setting an item of incompatible dtype is deprecated and will raise in a future error of pandas. Value '[ 0.57320734  0.57320734  0.57320734 ... -0.05331959  0.57320734\n",
            " -0.05331959]' has dtype incompatible with int32, please explicitly cast to a compatible dtype first.\n",
            "  X_test.update(test_data_scaled)\n",
            "<ipython-input-14-094327b233c7>:20: FutureWarning: Setting an item of incompatible dtype is deprecated and will raise in a future error of pandas. Value '[-0.62010684 -0.62010684 -0.62010684 ... -0.62010684 -0.62010684\n",
            " -0.62010684]' has dtype incompatible with int32, please explicitly cast to a compatible dtype first.\n",
            "  X_test.update(test_data_scaled)\n",
            "<ipython-input-14-094327b233c7>:20: FutureWarning: Setting an item of incompatible dtype is deprecated and will raise in a future error of pandas. Value '[ 1.51023362  1.51023362  1.51023362 ... -0.13496535  1.51023362\n",
            " -0.13496535]' has dtype incompatible with int32, please explicitly cast to a compatible dtype first.\n",
            "  X_test.update(test_data_scaled)\n",
            "<ipython-input-14-094327b233c7>:20: FutureWarning: Setting an item of incompatible dtype is deprecated and will raise in a future error of pandas. Value '[-0.14811061 -0.14811061 -0.14811061 ...  0.50968703 -0.14811061\n",
            " -0.03640913]' has dtype incompatible with int32, please explicitly cast to a compatible dtype first.\n",
            "  X_test.update(test_data_scaled)\n",
            "<ipython-input-14-094327b233c7>:20: FutureWarning: Setting an item of incompatible dtype is deprecated and will raise in a future error of pandas. Value '[-0.18323529 -0.18323529 -0.18323529 ... -0.01386162 -0.18323529\n",
            " -0.1267774 ]' has dtype incompatible with int32, please explicitly cast to a compatible dtype first.\n",
            "  X_test.update(test_data_scaled)\n",
            "<ipython-input-14-094327b233c7>:20: FutureWarning: Setting an item of incompatible dtype is deprecated and will raise in a future error of pandas. Value '[-0.05218819 -0.04607844 -0.0494277  ...  0.61173379 -0.05408\n",
            "  0.03258588]' has dtype incompatible with int32, please explicitly cast to a compatible dtype first.\n",
            "  X_test.update(test_data_scaled)\n",
            "<ipython-input-14-094327b233c7>:20: FutureWarning: Setting an item of incompatible dtype is deprecated and will raise in a future error of pandas. Value '[-0.10642104 -0.10642104 -0.10642104 ... -0.10083644 -0.10642104\n",
            " -0.10452378]' has dtype incompatible with int32, please explicitly cast to a compatible dtype first.\n",
            "  X_test.update(test_data_scaled)\n",
            "<ipython-input-14-094327b233c7>:20: FutureWarning: Setting an item of incompatible dtype is deprecated and will raise in a future error of pandas. Value '[ 0.48744997  0.79134753  1.45992223 ... -0.32271764  1.45992223\n",
            " -0.32272603]' has dtype incompatible with float32, please explicitly cast to a compatible dtype first.\n",
            "  X_test.update(test_data_scaled)\n",
            "<ipython-input-14-094327b233c7>:20: FutureWarning: Setting an item of incompatible dtype is deprecated and will raise in a future error of pandas. Value '[0.96566963 0.96566963 0.96566963 ... 0.96566963 0.96566963 0.96566963]' has dtype incompatible with int32, please explicitly cast to a compatible dtype first.\n",
            "  X_test.update(test_data_scaled)\n",
            "<ipython-input-14-094327b233c7>:20: FutureWarning: Setting an item of incompatible dtype is deprecated and will raise in a future error of pandas. Value '[-1.16278362 -1.16278362 -1.16278362 ...  0.98608897 -1.16278362\n",
            "  0.98608897]' has dtype incompatible with int32, please explicitly cast to a compatible dtype first.\n",
            "  X_test.update(test_data_scaled)\n",
            "<ipython-input-14-094327b233c7>:20: FutureWarning: Setting an item of incompatible dtype is deprecated and will raise in a future error of pandas. Value '[ 0.69911274  4.29668453  4.16010097 ... -0.22591668  0.20020466\n",
            " -0.22636683]' has dtype incompatible with float32, please explicitly cast to a compatible dtype first.\n",
            "  X_test.update(test_data_scaled)\n",
            "<ipython-input-14-094327b233c7>:20: FutureWarning: Setting an item of incompatible dtype is deprecated and will raise in a future error of pandas. Value '[-0.33036502 -0.33036502 -0.33036502 ... -0.32983174 -0.33036502\n",
            " -0.32959193]' has dtype incompatible with float32, please explicitly cast to a compatible dtype first.\n",
            "  X_test.update(test_data_scaled)\n",
            "<ipython-input-14-094327b233c7>:20: FutureWarning: Setting an item of incompatible dtype is deprecated and will raise in a future error of pandas. Value '[-0.08747956 -0.08747956 -0.08747956 ...  0.56716926 -0.08747956\n",
            "  0.0023742 ]' has dtype incompatible with int32, please explicitly cast to a compatible dtype first.\n",
            "  X_test.update(test_data_scaled)\n",
            "<ipython-input-14-094327b233c7>:20: FutureWarning: Setting an item of incompatible dtype is deprecated and will raise in a future error of pandas. Value '[-0.13697287 -0.13697287 -0.13697287 ... -0.12238176 -0.13697287\n",
            " -0.12238176]' has dtype incompatible with int32, please explicitly cast to a compatible dtype first.\n",
            "  X_test.update(test_data_scaled)\n",
            "<ipython-input-14-094327b233c7>:20: FutureWarning: Setting an item of incompatible dtype is deprecated and will raise in a future error of pandas. Value '[-0.09693563 -0.09693633 -0.09693702 ... -0.08573822 -0.09693702\n",
            " -0.08397725]' has dtype incompatible with float32, please explicitly cast to a compatible dtype first.\n",
            "  X_test.update(test_data_scaled)\n",
            "<ipython-input-14-094327b233c7>:20: FutureWarning: Setting an item of incompatible dtype is deprecated and will raise in a future error of pandas. Value '[-0.10230581 -0.10230581 -0.10230581 ...  0.09309835 -0.10230581\n",
            "  0.02466193]' has dtype incompatible with float32, please explicitly cast to a compatible dtype first.\n",
            "  X_test.update(test_data_scaled)\n",
            "<ipython-input-14-094327b233c7>:20: FutureWarning: Setting an item of incompatible dtype is deprecated and will raise in a future error of pandas. Value '[-0.1250911  -0.1250911  -0.1250911  ...  0.07518844 -0.1250911\n",
            " -0.02611533]' has dtype incompatible with float32, please explicitly cast to a compatible dtype first.\n",
            "  X_test.update(test_data_scaled)\n",
            "<ipython-input-14-094327b233c7>:20: FutureWarning: Setting an item of incompatible dtype is deprecated and will raise in a future error of pandas. Value '[-0.16101784 -0.16101784 -0.16101784 ... -0.01763322 -0.16101784\n",
            " -0.11207994]' has dtype incompatible with float32, please explicitly cast to a compatible dtype first.\n",
            "  X_test.update(test_data_scaled)\n",
            "<ipython-input-14-094327b233c7>:20: FutureWarning: Setting an item of incompatible dtype is deprecated and will raise in a future error of pandas. Value '[-1.73715477 -1.73715477 -1.73715477 ...  0.57573568 -1.73715477\n",
            "  0.57573568]' has dtype incompatible with int32, please explicitly cast to a compatible dtype first.\n",
            "  X_test.update(test_data_scaled)\n",
            "<ipython-input-14-094327b233c7>:20: FutureWarning: Setting an item of incompatible dtype is deprecated and will raise in a future error of pandas. Value '[ 1.67931604e-03  1.67931604e-03  1.67931604e-03 ... -1.87087948e+00\n",
            "  1.67931604e-03  1.01316239e+00]' has dtype incompatible with int32, please explicitly cast to a compatible dtype first.\n",
            "  X_test.update(test_data_scaled)\n",
            "<ipython-input-14-094327b233c7>:20: FutureWarning: Setting an item of incompatible dtype is deprecated and will raise in a future error of pandas. Value '[-3.36168037e-04 -3.36168037e-04 -3.36168037e-04 ... -1.36082919e-01\n",
            " -3.36168037e-04 -9.53230277e-01]' has dtype incompatible with int32, please explicitly cast to a compatible dtype first.\n",
            "  X_test.update(test_data_scaled)\n",
            "<ipython-input-14-094327b233c7>:20: FutureWarning: Setting an item of incompatible dtype is deprecated and will raise in a future error of pandas. Value '[-1.6420759  -1.6420759  -1.6420759  ...  0.60911412 -1.6420759\n",
            "  0.60911412]' has dtype incompatible with int32, please explicitly cast to a compatible dtype first.\n",
            "  X_test.update(test_data_scaled)\n",
            "<ipython-input-14-094327b233c7>:20: FutureWarning: Setting an item of incompatible dtype is deprecated and will raise in a future error of pandas. Value '[-0.60251395 -0.60251395 -0.60251395 ...  0.45613044 -0.60251395\n",
            "  0.70080808]' has dtype incompatible with float32, please explicitly cast to a compatible dtype first.\n",
            "  X_test.update(test_data_scaled)\n",
            "<ipython-input-14-094327b233c7>:20: FutureWarning: Setting an item of incompatible dtype is deprecated and will raise in a future error of pandas. Value '[-0.5073697  -0.5073697  -0.5073697  ...  0.47069485 -0.5073697\n",
            "  0.7049531 ]' has dtype incompatible with float32, please explicitly cast to a compatible dtype first.\n",
            "  X_test.update(test_data_scaled)\n",
            "<ipython-input-14-094327b233c7>:20: FutureWarning: Setting an item of incompatible dtype is deprecated and will raise in a future error of pandas. Value '[-0.60503171 -0.60503171 -0.60503171 ...  0.34451631 -0.60503171\n",
            "  0.5532234 ]' has dtype incompatible with float32, please explicitly cast to a compatible dtype first.\n",
            "  X_test.update(test_data_scaled)\n",
            "<ipython-input-14-094327b233c7>:20: FutureWarning: Setting an item of incompatible dtype is deprecated and will raise in a future error of pandas. Value '[ 0.32705155  2.93439159  1.50509144 ...  4.56964277 -0.48027649\n",
            "  3.02501005]' has dtype incompatible with int32, please explicitly cast to a compatible dtype first.\n",
            "  X_test.update(test_data_scaled)\n",
            "<ipython-input-14-094327b233c7>:20: FutureWarning: Setting an item of incompatible dtype is deprecated and will raise in a future error of pandas. Value '[-0.60560484 -0.60560484 -0.60560484 ... -0.45283837 -0.60560484\n",
            " -0.44928566]' has dtype incompatible with int32, please explicitly cast to a compatible dtype first.\n",
            "  X_test.update(test_data_scaled)\n",
            "<ipython-input-14-094327b233c7>:20: FutureWarning: Setting an item of incompatible dtype is deprecated and will raise in a future error of pandas. Value '[-0.20728134 -0.20728134 -0.20728134 ... -0.20728134 -0.20728134\n",
            " -0.20728134]' has dtype incompatible with int32, please explicitly cast to a compatible dtype first.\n",
            "  X_test.update(test_data_scaled)\n",
            "<ipython-input-14-094327b233c7>:20: FutureWarning: Setting an item of incompatible dtype is deprecated and will raise in a future error of pandas. Value '[-0.05143793 -0.05143793 -0.05143793 ... -0.05143793 -0.05143793\n",
            " -0.05143793]' has dtype incompatible with int32, please explicitly cast to a compatible dtype first.\n",
            "  X_test.update(test_data_scaled)\n",
            "<ipython-input-14-094327b233c7>:20: FutureWarning: Setting an item of incompatible dtype is deprecated and will raise in a future error of pandas. Value '[-0.55798517 -0.55798517 -0.41741674 ... -0.6985536  -0.6985536\n",
            " -0.6985536 ]' has dtype incompatible with int32, please explicitly cast to a compatible dtype first.\n",
            "  X_test.update(test_data_scaled)\n",
            "<ipython-input-14-094327b233c7>:20: FutureWarning: Setting an item of incompatible dtype is deprecated and will raise in a future error of pandas. Value '[ 0.88952552  0.88952552  0.88952552 ... -0.03296565  0.88952552\n",
            " -0.03296565]' has dtype incompatible with int32, please explicitly cast to a compatible dtype first.\n",
            "  X_test.update(test_data_scaled)\n",
            "<ipython-input-14-094327b233c7>:20: FutureWarning: Setting an item of incompatible dtype is deprecated and will raise in a future error of pandas. Value '[-0.49482964 -0.49482964 -0.49482964 ... -0.49482964 -0.27715753\n",
            " -0.27715753]' has dtype incompatible with int32, please explicitly cast to a compatible dtype first.\n",
            "  X_test.update(test_data_scaled)\n",
            "<ipython-input-14-094327b233c7>:20: FutureWarning: Setting an item of incompatible dtype is deprecated and will raise in a future error of pandas. Value '[-0.29835627 -0.29835627 -0.29835627 ... -0.29835627 -0.29835627\n",
            " -0.29835627]' has dtype incompatible with int32, please explicitly cast to a compatible dtype first.\n",
            "  X_test.update(test_data_scaled)\n",
            "<ipython-input-14-094327b233c7>:20: FutureWarning: Setting an item of incompatible dtype is deprecated and will raise in a future error of pandas. Value '[-0.19328465 -0.19328465 -0.19328465 ... -0.19328465 -0.19328465\n",
            " -0.19328465]' has dtype incompatible with int32, please explicitly cast to a compatible dtype first.\n",
            "  X_test.update(test_data_scaled)\n",
            "<ipython-input-14-094327b233c7>:20: FutureWarning: Setting an item of incompatible dtype is deprecated and will raise in a future error of pandas. Value '[-0.27709371 -0.27709371 -0.12950153 ... -0.42468589 -0.27709371\n",
            " -0.42468589]' has dtype incompatible with int32, please explicitly cast to a compatible dtype first.\n",
            "  X_test.update(test_data_scaled)\n",
            "<ipython-input-14-094327b233c7>:20: FutureWarning: Setting an item of incompatible dtype is deprecated and will raise in a future error of pandas. Value '[-0.09912939 -0.09912939 -0.09912939 ... -0.09912939 -0.09912939\n",
            " -0.09912939]' has dtype incompatible with int32, please explicitly cast to a compatible dtype first.\n",
            "  X_test.update(test_data_scaled)\n",
            "<ipython-input-14-094327b233c7>:20: FutureWarning: Setting an item of incompatible dtype is deprecated and will raise in a future error of pandas. Value '[-0.09904459 -0.09904459 -0.09904459 ... -0.09904459 -0.09904459\n",
            " -0.09904459]' has dtype incompatible with int32, please explicitly cast to a compatible dtype first.\n",
            "  X_test.update(test_data_scaled)\n",
            "<ipython-input-14-094327b233c7>:20: FutureWarning: Setting an item of incompatible dtype is deprecated and will raise in a future error of pandas. Value '[-0.28572739 -0.28572739 -0.28572739 ... -0.28572739 -0.28572739\n",
            " -0.28572739]' has dtype incompatible with int32, please explicitly cast to a compatible dtype first.\n",
            "  X_test.update(test_data_scaled)\n",
            "<ipython-input-14-094327b233c7>:20: FutureWarning: Setting an item of incompatible dtype is deprecated and will raise in a future error of pandas. Value '[-0.57184008 -0.57184008 -0.57184008 ... -0.57184008 -0.36813118\n",
            " -0.16442229]' has dtype incompatible with int32, please explicitly cast to a compatible dtype first.\n",
            "  X_test.update(test_data_scaled)\n",
            "<ipython-input-14-094327b233c7>:20: FutureWarning: Setting an item of incompatible dtype is deprecated and will raise in a future error of pandas. Value '[-0.49861626 -0.49861626 -0.35598981 ... -0.35598981 -0.6412427\n",
            " -0.49861626]' has dtype incompatible with int32, please explicitly cast to a compatible dtype first.\n",
            "  X_test.update(test_data_scaled)\n",
            "<ipython-input-14-094327b233c7>:20: FutureWarning: Setting an item of incompatible dtype is deprecated and will raise in a future error of pandas. Value '[-0.07065534 -0.07065534 -0.07065534 ... -0.07065534 -0.07065534\n",
            " -0.07065534]' has dtype incompatible with int32, please explicitly cast to a compatible dtype first.\n",
            "  X_test.update(test_data_scaled)\n"
          ]
        }
      ]
    },
    {
      "cell_type": "markdown",
      "source": [
        "#Random Oversampling"
      ],
      "metadata": {
        "id": "EWtlI2dmBjS_"
      }
    },
    {
      "cell_type": "code",
      "source": [
        "from imblearn.over_sampling import RandomOverSampler\n",
        "import matplotlib.pyplot as plt\n",
        "import seaborn as sns\n",
        "import pandas as pd  # Import pandas explicitly\n",
        "\n",
        "\n",
        "\n",
        "# Create a RandomOverSampler instance\n",
        "ros = RandomOverSampler(random_state=42)  # Set random_state for reproducibility\n",
        "\n",
        "# Perform oversampling on the training data\n",
        "X_resampled, y_resampled = ros.fit_resample(X_train, y_train)\n",
        "\n",
        "# Create a new DataFrame with the resampled data\n",
        "resampled_data = pd.concat([pd.DataFrame(X_resampled, columns=X_train.columns), pd.DataFrame(y_resampled, columns=['label'])], axis=1)\n",
        "\n",
        "# Create a DataFrame with the original data for comparison\n",
        "original_data = pd.concat([X_train, y_train], axis=1)  # Use X_train here\n",
        "\n"
      ],
      "metadata": {
        "id": "6fb74lApwppv"
      },
      "execution_count": null,
      "outputs": []
    },
    {
      "cell_type": "code",
      "source": [
        "print(f\"Resampled data: {resampled_data.shape} \")\n",
        "print(f\"Original data: {original_data.shape}\")"
      ],
      "metadata": {
        "colab": {
          "base_uri": "https://localhost:8080/"
        },
        "id": "jmokut0gnFLL",
        "outputId": "997b322e-d4f0-45f2-d106-5892a49f1c2c"
      },
      "execution_count": null,
      "outputs": [
        {
          "output_type": "stream",
          "name": "stdout",
          "text": [
            "Resampled data: (103780, 43) \n",
            "Original data: (101269, 43)\n"
          ]
        }
      ]
    },
    {
      "cell_type": "code",
      "source": [
        "import seaborn as sns\n",
        "import matplotlib.pyplot as plt\n",
        "\n",
        "# Count the frequencies of 0 and 1\n",
        "label_counts = resampled_data['label'].value_counts()\n",
        "\n",
        "\n",
        "# Create a DataFrame for plotting\n",
        "df = pd.DataFrame({'Label': ['Label 0', 'Label 1'], 'Count': label_counts.values})\n",
        "df['Percentage'] = (df['Count'] / df['Count'].sum()) * 100\n",
        "\n",
        "# Plot the stacked bar chart\n",
        "plt.figure(figsize=(6, 4))\n",
        "plt.bar(df['Label'], df['Count'], color=['#1f77b4', '#ff7f0e'], edgecolor='black', width=0.4)\n",
        "plt.xlabel('Labels')\n",
        "plt.ylabel('Frequency')\n",
        "\n",
        "# Add percentage labels inside the bars\n",
        "for i, row in df.iterrows():\n",
        "    plt.text(row['Label'], row['Count'] / 2, f\"{row['Percentage']:.1f}%\", ha='center', va='center', color='white')\n",
        "\n",
        "plt.title('Frequency of Labels')\n",
        "plt.ylabel('Frequency')\n",
        "plt.show()"
      ],
      "metadata": {
        "colab": {
          "base_uri": "https://localhost:8080/",
          "height": 410
        },
        "id": "KZ0gANssCL_-",
        "outputId": "6f6f041d-9ec1-4594-a1b4-03feae0efa45"
      },
      "execution_count": null,
      "outputs": [
        {
          "output_type": "display_data",
          "data": {
            "text/plain": [
              "<Figure size 600x400 with 1 Axes>"
            ],
            "image/png": "[encoded data removed]"
          },
          "metadata": {}
        }
      ]
    },
    {
      "cell_type": "code",
      "source": [
        "import seaborn as sns\n",
        "import matplotlib.pyplot as plt\n",
        "\n",
        "# Count the frequencies of 0 and 1\n",
        "label_counts = resampled_data['label'].value_counts()\n",
        "\n",
        "# Create a DataFrame for plotting\n",
        "df = pd.DataFrame({'Label': ['Label 0', 'Label 1'], 'Count': label_counts.values})\n",
        "df['Percentage'] = (df['Count'] / df['Count'].sum()) * 100\n",
        "\n",
        "# Plot the stacked bar chart\n",
        "plt.figure(figsize=(6, 4))\n",
        "\n",
        "# Set the positions for the bars\n",
        "bar_positions = [0, 0.05]  # Adjust the second value to control the gap\n",
        "\n",
        "# Reduce the bar width to half\n",
        "bar_width = 0.03\n",
        "\n",
        "# Plot the bars with reduced width and adjusted positions\n",
        "plt.bar(bar_positions, df['Count'], color=['#1f77b4', '#ff7f0e'], edgecolor='black', width=bar_width)\n",
        "\n",
        "# Adjust x-axis ticks and labels\n",
        "plt.xticks(bar_positions, df['Label'])  # Center ticks under the bars\n",
        "plt.xlabel('Labels')\n",
        "plt.ylabel('Frequency')\n",
        "\n",
        "# Add percentage labels inside the bars (adjusted for reduced width)\n",
        "for i, row in df.iterrows():\n",
        "    plt.text(bar_positions[i], row['Count'] / 2, f\"{row['Percentage']:.1f}%\", ha='center', va='center', color='white')\n",
        "\n",
        "plt.title('Frequency of Labels')\n",
        "plt.ylabel('Frequency')\n",
        "plt.show()"
      ],
      "metadata": {
        "colab": {
          "base_uri": "https://localhost:8080/",
          "height": 410
        },
        "id": "gk4NAmKXfriB",
        "outputId": "2efac967-de99-40bb-dc57-67f96af3ce5a"
      },
      "execution_count": null,
      "outputs": [
        {
          "output_type": "display_data",
          "data": {
            "text/plain": [
              "<Figure size 600x400 with 1 Axes>"
            ],
            "image/png": "[encoded data removed]"
          },
          "metadata": {}
        }
      ]
    },
    {
      "cell_type": "markdown",
      "source": [
        "#Shuffle"
      ],
      "metadata": {
        "id": "GVudJjCyCrXv"
      }
    },
    {
      "cell_type": "code",
      "source": [
        "from sklearn.utils import shuffle\n",
        "\n",
        "# Assuming your dataset is in a Pandas DataFrame called 'df'\n",
        "resampled_data = shuffle(resampled_data)\n",
        "\n",
        "# If you want to reset the index after shuffling:\n",
        "resampled_data = resampled_data.reset_index(drop=True)\n",
        "\n"
      ],
      "metadata": {
        "id": "ekhwPvasCU7c"
      },
      "execution_count": null,
      "outputs": []
    },
    {
      "cell_type": "code",
      "source": [
        "X_train = resampled_data.drop(columns=['label'])\n",
        "y_train = resampled_data['label']"
      ],
      "metadata": {
        "id": "vKnE5Cj7C1kY"
      },
      "execution_count": null,
      "outputs": []
    },
    {
      "cell_type": "code",
      "source": [
        "print(f\"Before PCA, training dataset shape: {X_train.shape}\")\n",
        "print(y_train.shape)"
      ],
      "metadata": {
        "colab": {
          "base_uri": "https://localhost:8080/"
        },
        "id": "RvrZDBPkny__",
        "outputId": "940d8455-4937-49b2-8ced-806d7ea55884"
      },
      "execution_count": null,
      "outputs": [
        {
          "output_type": "stream",
          "name": "stdout",
          "text": [
            "Before PCA, training dataset shape: (103780, 42)\n",
            "(103780,)\n"
          ]
        }
      ]
    },
    {
      "cell_type": "markdown",
      "source": [
        "#PCA"
      ],
      "metadata": {
        "id": "FNbYAaxRDK3P"
      }
    },
    {
      "cell_type": "code",
      "source": [
        "from sklearn.decomposition import PCA\n",
        "\n",
        "pca = PCA(n_components=0.98)\n",
        "X_train_pca = pca.fit_transform(X_train)\n",
        "X_test_pca = pca.transform(X_test)"
      ],
      "metadata": {
        "id": "Ik4zvMWUC5Ck"
      },
      "execution_count": null,
      "outputs": []
    },
    {
      "cell_type": "code",
      "source": [
        "print(f\"After PCA, training dataset shape: {X_train_pca.shape}\")"
      ],
      "metadata": {
        "colab": {
          "base_uri": "https://localhost:8080/"
        },
        "id": "ZwMcIvUtDRt_",
        "outputId": "b09cda75-26a3-4124-af23-20d84f591952"
      },
      "execution_count": null,
      "outputs": [
        {
          "output_type": "stream",
          "name": "stdout",
          "text": [
            "After PCA, training dataset shape: (103780, 29)\n"
          ]
        }
      ]
    },
    {
      "cell_type": "code",
      "source": [
        "print(f\"The variance ratio: {pca.explained_variance_ratio_}\")\n",
        "print(f\"The total variance ratio: {pca.explained_variance_ratio_.sum()}\")"
      ],
      "metadata": {
        "colab": {
          "base_uri": "https://localhost:8080/"
        },
        "id": "AGDs18qbDbI3",
        "outputId": "9fd6d9ba-ca36-45b5-c8ac-e73e136f039c"
      },
      "execution_count": null,
      "outputs": [
        {
          "output_type": "stream",
          "name": "stdout",
          "text": [
            "The variance ratio: [0.16335367 0.10309749 0.0882179  0.07133258 0.06565969 0.05539277\n",
            " 0.04801806 0.04247068 0.03923926 0.03605259 0.02644163 0.02549713\n",
            " 0.02271788 0.02158391 0.02049122 0.0189676  0.01764698 0.01674714\n",
            " 0.01484912 0.01414482 0.01190126 0.01088614 0.00976235 0.00843235\n",
            " 0.0080031  0.00707922 0.00619262 0.00566902 0.0055311 ]\n",
            "The total variance ratio: 0.9853792732290433\n"
          ]
        }
      ]
    },
    {
      "cell_type": "code",
      "source": [
        "X_train_pca = pd.DataFrame(X_train_pca)\n",
        "X_test_pca = pd.DataFrame(X_test_pca)\n",
        "X_train_pca.head()"
      ],
      "metadata": {
        "colab": {
          "base_uri": "https://localhost:8080/",
          "height": 256
        },
        "id": "uKF-PrtKDhXY",
        "outputId": "040c4a32-723d-4e27-ab7b-248601e633bc"
      },
      "execution_count": null,
      "outputs": [
        {
          "output_type": "execute_result",
          "data": {
            "text/plain": [
              "         0         1         2         3         4         5         6   \\\n",
              "0 -0.491994  2.919906 -1.437054 -0.523122 -0.453143 -0.728235 -0.802382   \n",
              "1 -0.697769  1.367378  0.348910  1.298217 -0.372207 -1.117799  0.009734   \n",
              "2 -1.957297 -0.392595 -0.036011 -0.501814 -0.028948 -0.378285 -0.407498   \n",
              "3  0.824364  1.374861 -2.220425  0.896686 -0.813025  0.544720  0.005884   \n",
              "4 -1.322156 -0.869668  0.775210 -0.713190  0.062317 -1.315012 -0.393777   \n",
              "\n",
              "         7         8         9   ...        19        20        21        22  \\\n",
              "0 -0.795983 -0.723093  2.129728  ... -0.029314  0.973012 -0.165835 -0.128772   \n",
              "1  1.996598  1.347350 -0.065391  ...  0.346956 -0.177164  0.492556  1.555828   \n",
              "2  0.151380  1.576667 -0.182879  ... -0.282412 -0.218516  0.061708  0.005953   \n",
              "3  0.718697 -0.680451 -2.597344  ...  0.106179  0.210959 -0.084680  0.110196   \n",
              "4  0.674842  1.366661 -0.790356  ...  1.923046 -0.502470  2.507649  0.136259   \n",
              "\n",
              "         23        24        25        26        27        28  \n",
              "0 -0.006896 -0.271625  0.274075  0.054054 -0.063513 -0.037186  \n",
              "1 -0.684962 -0.230164 -0.319445  0.130974 -0.029513 -0.311246  \n",
              "2  0.279655  0.053273 -0.076402 -0.244130 -0.739585 -0.085509  \n",
              "3  0.222117  0.338004  0.387431  0.315886 -0.099721 -0.168959  \n",
              "4 -0.425366 -0.767415 -0.134145 -0.150806 -0.123966  0.099525  \n",
              "\n",
              "[5 rows x 29 columns]"
            ],
            "text/html": [
              "\n",
              "  <div id=\"df-f2e3045d-f5fb-4942-a613-b34206293b7a\" class=\"colab-df-container\">\n",
              "    <div>\n",
              "<style scoped>\n",
              "    .dataframe tbody tr th:only-of-type {\n",
              "        vertical-align: middle;\n",
              "    }\n",
              "\n",
              "    .dataframe tbody tr th {\n",
              "        vertical-align: top;\n",
              "    }\n",
              "\n",
              "    .dataframe thead th {\n",
              "        text-align: right;\n",
              "    }\n",
              "</style>\n",
              "<table border=\"1\" class=\"dataframe\">\n",
              "  <thead>\n",
              "    <tr style=\"text-align: right;\">\n",
              "      <th></th>\n",
              "      <th>0</th>\n",
              "      <th>1</th>\n",
              "      <th>2</th>\n",
              "      <th>3</th>\n",
              "      <th>4</th>\n",
              "      <th>5</th>\n",
              "      <th>6</th>\n",
              "      <th>7</th>\n",
              "      <th>8</th>\n",
              "      <th>9</th>\n",
              "      <th>...</th>\n",
              "      <th>19</th>\n",
              "      <th>20</th>\n",
              "      <th>21</th>\n",
              "      <th>22</th>\n",
              "      <th>23</th>\n",
              "      <th>24</th>\n",
              "      <th>25</th>\n",
              "      <th>26</th>\n",
              "      <th>27</th>\n",
              "      <th>28</th>\n",
              "    </tr>\n",
              "  </thead>\n",
              "  <tbody>\n",
              "    <tr>\n",
              "      <th>0</th>\n",
              "      <td>-0.491994</td>\n",
              "      <td>2.919906</td>\n",
              "      <td>-1.437054</td>\n",
              "      <td>-0.523122</td>\n",
              "      <td>-0.453143</td>\n",
              "      <td>-0.728235</td>\n",
              "      <td>-0.802382</td>\n",
              "      <td>-0.795983</td>\n",
              "      <td>-0.723093</td>\n",
              "      <td>2.129728</td>\n",
              "      <td>...</td>\n",
              "      <td>-0.029314</td>\n",
              "      <td>0.973012</td>\n",
              "      <td>-0.165835</td>\n",
              "      <td>-0.128772</td>\n",
              "      <td>-0.006896</td>\n",
              "      <td>-0.271625</td>\n",
              "      <td>0.274075</td>\n",
              "      <td>0.054054</td>\n",
              "      <td>-0.063513</td>\n",
              "      <td>-0.037186</td>\n",
              "    </tr>\n",
              "    <tr>\n",
              "      <th>1</th>\n",
              "      <td>-0.697769</td>\n",
              "      <td>1.367378</td>\n",
              "      <td>0.348910</td>\n",
              "      <td>1.298217</td>\n",
              "      <td>-0.372207</td>\n",
              "      <td>-1.117799</td>\n",
              "      <td>0.009734</td>\n",
              "      <td>1.996598</td>\n",
              "      <td>1.347350</td>\n",
              "      <td>-0.065391</td>\n",
              "      <td>...</td>\n",
              "      <td>0.346956</td>\n",
              "      <td>-0.177164</td>\n",
              "      <td>0.492556</td>\n",
              "      <td>1.555828</td>\n",
              "      <td>-0.684962</td>\n",
              "      <td>-0.230164</td>\n",
              "      <td>-0.319445</td>\n",
              "      <td>0.130974</td>\n",
              "      <td>-0.029513</td>\n",
              "      <td>-0.311246</td>\n",
              "    </tr>\n",
              "    <tr>\n",
              "      <th>2</th>\n",
              "      <td>-1.957297</td>\n",
              "      <td>-0.392595</td>\n",
              "      <td>-0.036011</td>\n",
              "      <td>-0.501814</td>\n",
              "      <td>-0.028948</td>\n",
              "      <td>-0.378285</td>\n",
              "      <td>-0.407498</td>\n",
              "      <td>0.151380</td>\n",
              "      <td>1.576667</td>\n",
              "      <td>-0.182879</td>\n",
              "      <td>...</td>\n",
              "      <td>-0.282412</td>\n",
              "      <td>-0.218516</td>\n",
              "      <td>0.061708</td>\n",
              "      <td>0.005953</td>\n",
              "      <td>0.279655</td>\n",
              "      <td>0.053273</td>\n",
              "      <td>-0.076402</td>\n",
              "      <td>-0.244130</td>\n",
              "      <td>-0.739585</td>\n",
              "      <td>-0.085509</td>\n",
              "    </tr>\n",
              "    <tr>\n",
              "      <th>3</th>\n",
              "      <td>0.824364</td>\n",
              "      <td>1.374861</td>\n",
              "      <td>-2.220425</td>\n",
              "      <td>0.896686</td>\n",
              "      <td>-0.813025</td>\n",
              "      <td>0.544720</td>\n",
              "      <td>0.005884</td>\n",
              "      <td>0.718697</td>\n",
              "      <td>-0.680451</td>\n",
              "      <td>-2.597344</td>\n",
              "      <td>...</td>\n",
              "      <td>0.106179</td>\n",
              "      <td>0.210959</td>\n",
              "      <td>-0.084680</td>\n",
              "      <td>0.110196</td>\n",
              "      <td>0.222117</td>\n",
              "      <td>0.338004</td>\n",
              "      <td>0.387431</td>\n",
              "      <td>0.315886</td>\n",
              "      <td>-0.099721</td>\n",
              "      <td>-0.168959</td>\n",
              "    </tr>\n",
              "    <tr>\n",
              "      <th>4</th>\n",
              "      <td>-1.322156</td>\n",
              "      <td>-0.869668</td>\n",
              "      <td>0.775210</td>\n",
              "      <td>-0.713190</td>\n",
              "      <td>0.062317</td>\n",
              "      <td>-1.315012</td>\n",
              "      <td>-0.393777</td>\n",
              "      <td>0.674842</td>\n",
              "      <td>1.366661</td>\n",
              "      <td>-0.790356</td>\n",
              "      <td>...</td>\n",
              "      <td>1.923046</td>\n",
              "      <td>-0.502470</td>\n",
              "      <td>2.507649</td>\n",
              "      <td>0.136259</td>\n",
              "      <td>-0.425366</td>\n",
              "      <td>-0.767415</td>\n",
              "      <td>-0.134145</td>\n",
              "      <td>-0.150806</td>\n",
              "      <td>-0.123966</td>\n",
              "      <td>0.099525</td>\n",
              "    </tr>\n",
              "  </tbody>\n",
              "</table>\n",
              "<p>5 rows × 29 columns</p>\n",
              "</div>\n",
              "    <div class=\"colab-df-buttons\">\n",
              "\n",
              "  <div class=\"colab-df-container\">\n",
              "    <button class=\"colab-df-convert\" onclick=\"convertToInteractive('df-f2e3045d-f5fb-4942-a613-b34206293b7a')\"\n",
              "            title=\"Convert this dataframe to an interactive table.\"\n",
              "            style=\"display:none;\">\n",
              "\n",
              "  <svg xmlns=\"http://www.w3.org/2000/svg\" height=\"24px\" viewBox=\"0 -960 960 960\">\n",
              "    <path d=\"M120-120v-720h720v720H120Zm60-500h600v-160H180v160Zm220 220h160v-160H400v160Zm0 220h160v-160H400v160ZM180-400h160v-160H180v160Zm440 0h160v-160H620v160ZM180-180h160v-160H180v160Zm440 0h160v-160H620v160Z\"/>\n",
              "  </svg>\n",
              "    </button>\n",
              "\n",
              "  <style>\n",
              "    .colab-df-container {\n",
              "      display:flex;\n",
              "      gap: 12px;\n",
              "    }\n",
              "\n",
              "    .colab-df-convert {\n",
              "      background-color: #E8F0FE;\n",
              "      border: none;\n",
              "      border-radius: 50%;\n",
              "      cursor: pointer;\n",
              "      display: none;\n",
              "      fill: #1967D2;\n",
              "      height: 32px;\n",
              "      padding: 0 0 0 0;\n",
              "      width: 32px;\n",
              "    }\n",
              "\n",
              "    .colab-df-convert:hover {\n",
              "      background-color: #E2EBFA;\n",
              "      box-shadow: 0px 1px 2px rgba(60, 64, 67, 0.3), 0px 1px 3px 1px rgba(60, 64, 67, 0.15);\n",
              "      fill: #174EA6;\n",
              "    }\n",
              "\n",
              "    .colab-df-buttons div {\n",
              "      margin-bottom: 4px;\n",
              "    }\n",
              "\n",
              "    [theme=dark] .colab-df-convert {\n",
              "      background-color: #3B4455;\n",
              "      fill: #D2E3FC;\n",
              "    }\n",
              "\n",
              "    [theme=dark] .colab-df-convert:hover {\n",
              "      background-color: #434B5C;\n",
              "      box-shadow: 0px 1px 3px 1px rgba(0, 0, 0, 0.15);\n",
              "      filter: drop-shadow(0px 1px 2px rgba(0, 0, 0, 0.3));\n",
              "      fill: #FFFFFF;\n",
              "    }\n",
              "  </style>\n",
              "\n",
              "    <script>\n",
              "      const buttonEl =\n",
              "        document.querySelector('#df-f2e3045d-f5fb-4942-a613-b34206293b7a button.colab-df-convert');\n",
              "      buttonEl.style.display =\n",
              "        google.colab.kernel.accessAllowed ? 'block' : 'none';\n",
              "\n",
              "      async function convertToInteractive(key) {\n",
              "        const element = document.querySelector('#df-f2e3045d-f5fb-4942-a613-b34206293b7a');\n",
              "        const dataTable =\n",
              "          await google.colab.kernel.invokeFunction('convertToInteractive',\n",
              "                                                    [key], {});\n",
              "        if (!dataTable) return;\n",
              "\n",
              "        const docLinkHtml = 'Like what you see? Visit the ' +\n",
              "          '<a target=\"_blank\" href=https://colab.research.google.com/notebooks/data_table.ipynb>data table notebook</a>'\n",
              "          + ' to learn more about interactive tables.';\n",
              "        element.innerHTML = '';\n",
              "        dataTable['output_type'] = 'display_data';\n",
              "        await google.colab.output.renderOutput(dataTable, element);\n",
              "        const docLink = document.createElement('div');\n",
              "        docLink.innerHTML = docLinkHtml;\n",
              "        element.appendChild(docLink);\n",
              "      }\n",
              "    </script>\n",
              "  </div>\n",
              "\n",
              "\n",
              "    <div id=\"df-9a7eaddb-1e0b-4856-a85d-3f293bcc62bc\">\n",
              "      <button class=\"colab-df-quickchart\" onclick=\"quickchart('df-9a7eaddb-1e0b-4856-a85d-3f293bcc62bc')\"\n",
              "                title=\"Suggest charts\"\n",
              "                style=\"display:none;\">\n",
              "\n",
              "<svg xmlns=\"http://www.w3.org/2000/svg\" height=\"24px\"viewBox=\"0 0 24 24\"\n",
              "     width=\"24px\">\n",
              "    <g>\n",
              "        <path d=\"M19 3H5c-1.1 0-2 .9-2 2v14c0 1.1.9 2 2 2h14c1.1 0 2-.9 2-2V5c0-1.1-.9-2-2-2zM9 17H7v-7h2v7zm4 0h-2V7h2v10zm4 0h-2v-4h2v4z\"/>\n",
              "    </g>\n",
              "</svg>\n",
              "      </button>\n",
              "\n",
              "<style>\n",
              "  .colab-df-quickchart {\n",
              "      --bg-color: #E8F0FE;\n",
              "      --fill-color: #1967D2;\n",
              "      --hover-bg-color: #E2EBFA;\n",
              "      --hover-fill-color: #174EA6;\n",
              "      --disabled-fill-color: #AAA;\n",
              "      --disabled-bg-color: #DDD;\n",
              "  }\n",
              "\n",
              "  [theme=dark] .colab-df-quickchart {\n",
              "      --bg-color: #3B4455;\n",
              "      --fill-color: #D2E3FC;\n",
              "      --hover-bg-color: #434B5C;\n",
              "      --hover-fill-color: #FFFFFF;\n",
              "      --disabled-bg-color: #3B4455;\n",
              "      --disabled-fill-color: #666;\n",
              "  }\n",
              "\n",
              "  .colab-df-quickchart {\n",
              "    background-color: var(--bg-color);\n",
              "    border: none;\n",
              "    border-radius: 50%;\n",
              "    cursor: pointer;\n",
              "    display: none;\n",
              "    fill: var(--fill-color);\n",
              "    height: 32px;\n",
              "    padding: 0;\n",
              "    width: 32px;\n",
              "  }\n",
              "\n",
              "  .colab-df-quickchart:hover {\n",
              "    background-color: var(--hover-bg-color);\n",
              "    box-shadow: 0 1px 2px rgba(60, 64, 67, 0.3), 0 1px 3px 1px rgba(60, 64, 67, 0.15);\n",
              "    fill: var(--button-hover-fill-color);\n",
              "  }\n",
              "\n",
              "  .colab-df-quickchart-complete:disabled,\n",
              "  .colab-df-quickchart-complete:disabled:hover {\n",
              "    background-color: var(--disabled-bg-color);\n",
              "    fill: var(--disabled-fill-color);\n",
              "    box-shadow: none;\n",
              "  }\n",
              "\n",
              "  .colab-df-spinner {\n",
              "    border: 2px solid var(--fill-color);\n",
              "    border-color: transparent;\n",
              "    border-bottom-color: var(--fill-color);\n",
              "    animation:\n",
              "      spin 1s steps(1) infinite;\n",
              "  }\n",
              "\n",
              "  @keyframes spin {\n",
              "    0% {\n",
              "      border-color: transparent;\n",
              "      border-bottom-color: var(--fill-color);\n",
              "      border-left-color: var(--fill-color);\n",
              "    }\n",
              "    20% {\n",
              "      border-color: transparent;\n",
              "      border-left-color: var(--fill-color);\n",
              "      border-top-color: var(--fill-color);\n",
              "    }\n",
              "    30% {\n",
              "      border-color: transparent;\n",
              "      border-left-color: var(--fill-color);\n",
              "      border-top-color: var(--fill-color);\n",
              "      border-right-color: var(--fill-color);\n",
              "    }\n",
              "    40% {\n",
              "      border-color: transparent;\n",
              "      border-right-color: var(--fill-color);\n",
              "      border-top-color: var(--fill-color);\n",
              "    }\n",
              "    60% {\n",
              "      border-color: transparent;\n",
              "      border-right-color: var(--fill-color);\n",
              "    }\n",
              "    80% {\n",
              "      border-color: transparent;\n",
              "      border-right-color: var(--fill-color);\n",
              "      border-bottom-color: var(--fill-color);\n",
              "    }\n",
              "    90% {\n",
              "      border-color: transparent;\n",
              "      border-bottom-color: var(--fill-color);\n",
              "    }\n",
              "  }\n",
              "</style>\n",
              "\n",
              "      <script>\n",
              "        async function quickchart(key) {\n",
              "          const quickchartButtonEl =\n",
              "            document.querySelector('#' + key + ' button');\n",
              "          quickchartButtonEl.disabled = true;  // To prevent multiple clicks.\n",
              "          quickchartButtonEl.classList.add('colab-df-spinner');\n",
              "          try {\n",
              "            const charts = await google.colab.kernel.invokeFunction(\n",
              "                'suggestCharts', [key], {});\n",
              "          } catch (error) {\n",
              "            console.error('Error during call to suggestCharts:', error);\n",
              "          }\n",
              "          quickchartButtonEl.classList.remove('colab-df-spinner');\n",
              "          quickchartButtonEl.classList.add('colab-df-quickchart-complete');\n",
              "        }\n",
              "        (() => {\n",
              "          let quickchartButtonEl =\n",
              "            document.querySelector('#df-9a7eaddb-1e0b-4856-a85d-3f293bcc62bc button');\n",
              "          quickchartButtonEl.style.display =\n",
              "            google.colab.kernel.accessAllowed ? 'block' : 'none';\n",
              "        })();\n",
              "      </script>\n",
              "    </div>\n",
              "\n",
              "    </div>\n",
              "  </div>\n"
            ],
            "application/vnd.google.colaboratory.intrinsic+json": {
              "type": "dataframe",
              "variable_name": "X_train_pca"
            }
          },
          "metadata": {},
          "execution_count": 27
        }
      ]
    },
    {
      "cell_type": "code",
      "source": [
        "print(X_train_pca.shape)\n",
        "print(X_test_pca.shape)\n",
        "print(y_train.shape)\n",
        "print(y_test.shape)"
      ],
      "metadata": {
        "colab": {
          "base_uri": "https://localhost:8080/"
        },
        "id": "lGz5k-FiDtHd",
        "outputId": "a35abccd-5c75-49e1-8714-e60767f13960"
      },
      "execution_count": null,
      "outputs": [
        {
          "output_type": "stream",
          "name": "stdout",
          "text": [
            "(103780, 29)\n",
            "(53952, 29)\n",
            "(103780,)\n",
            "(53952,)\n"
          ]
        }
      ]
    },
    {
      "cell_type": "markdown",
      "source": [
        "#Splitting into Labeled & Unlabeled"
      ],
      "metadata": {
        "id": "g6QYXIfoEKnq"
      }
    },
    {
      "cell_type": "code",
      "source": [
        "from sklearn.model_selection import train_test_split\n",
        "\n",
        "\n",
        "X1, X2, y1, y2 = train_test_split(\n",
        "    X_train_pca, y_train, train_size=0.12, random_state=42\n",
        ")"
      ],
      "metadata": {
        "id": "s2sQ66fBrePX"
      },
      "execution_count": null,
      "outputs": []
    },
    {
      "cell_type": "code",
      "source": [
        "print(f'train dataset shape: ',X1.shape)\n",
        "print(f'target dataset shape: ',y1.shape)"
      ],
      "metadata": {
        "colab": {
          "base_uri": "https://localhost:8080/"
        },
        "id": "HgFCf0itr1no",
        "outputId": "32e2ca81-1531-4afd-87db-dbdb26391979"
      },
      "execution_count": null,
      "outputs": [
        {
          "output_type": "stream",
          "name": "stdout",
          "text": [
            "train dataset shape:  (12453, 29)\n",
            "target dataset shape:  (12453,)\n"
          ]
        }
      ]
    },
    {
      "cell_type": "code",
      "source": [
        "# Count the frequencies of 0 and 1\n",
        "label_counts = y1.value_counts() #previously y_labeled\n",
        "\n",
        "# Plot the histogram (or bar chart)\n",
        "plt.figure(figsize=(3, 3))\n",
        "plt.bar(label_counts.index, label_counts.values, color=['blue', 'green'], alpha=0.5, width= 0.4)\n",
        "plt.xticks([0, 1], ['Label 0', 'Label 1'])  # Set x-tick labels\n",
        "plt.title('Frequency of Labels')\n",
        "plt.xlabel('Labels')\n",
        "plt.ylabel('Frequency')\n",
        "plt.show()"
      ],
      "metadata": {
        "colab": {
          "base_uri": "https://localhost:8080/",
          "height": 333
        },
        "id": "iFc9K2ByGYJN",
        "outputId": "2953a40b-a22d-41a5-f09e-a7e1b8d25f2a"
      },
      "execution_count": null,
      "outputs": [
        {
          "output_type": "display_data",
          "data": {
            "text/plain": [
              "<Figure size 300x300 with 1 Axes>"
            ],
            "image/png": "[encoded data removed]"
          },
          "metadata": {}
        }
      ]
    },
    {
      "cell_type": "code",
      "source": [
        "print(label_counts)"
      ],
      "metadata": {
        "colab": {
          "base_uri": "https://localhost:8080/"
        },
        "id": "VC5g9O4JtUdb",
        "outputId": "16f8c343-1728-4261-c2fb-1681f5fe59ff"
      },
      "execution_count": null,
      "outputs": [
        {
          "output_type": "stream",
          "name": "stdout",
          "text": [
            "label\n",
            "1    6267\n",
            "0    6186\n",
            "Name: count, dtype: int64\n"
          ]
        }
      ]
    },
    {
      "cell_type": "markdown",
      "source": [
        "#Label Spreading semi-supervised learning"
      ],
      "metadata": {
        "id": "s_8B-LdIQKuT"
      }
    },
    {
      "cell_type": "code",
      "source": [
        "from numpy import concatenate\n",
        "from sklearn.datasets import make_classification\n",
        "from sklearn.model_selection import train_test_split\n",
        "from sklearn.metrics import accuracy_score\n",
        "from sklearn.semi_supervised import LabelSpreading\n",
        "from sklearn.tree import DecisionTreeClassifier"
      ],
      "metadata": {
        "id": "Xpqv-A-hSTBZ"
      },
      "execution_count": null,
      "outputs": []
    },
    {
      "cell_type": "code",
      "source": [
        "n = 0.05\n",
        "avg_accuracy_list_lb = []  # To store average accuracy for each n\n",
        "error_margin_list_lb = []  # To store error margin for each n\n",
        "out = 1\n",
        "for i in range(1, 20):\n",
        "    accuracy_scores = []  # To store accuracy scores for 10 runs\n",
        "\n",
        "    for _ in range(10):  # Run the model 10 times\n",
        "        X_labeled, X_unlabeled, y_labeled, y_unlabeled = train_test_split(\n",
        "            X1, y1, train_size=n, random_state=42\n",
        "        )\n",
        "\n",
        "        # create \"no label\" for unlabeled data\n",
        "        nolabel = [-1 for _ in range(len(y_unlabeled))]\n",
        "\n",
        "        # create the training dataset input\n",
        "        X_train_mixed = concatenate((X_labeled, X_unlabeled))\n",
        "\n",
        "        # recombine training dataset labels\n",
        "        y_train_mixed = concatenate((y_labeled, nolabel))\n",
        "\n",
        "        # define model\n",
        "        model = LabelSpreading(kernel='rbf', gamma=20, n_neighbors=7, alpha=0.2, max_iter=100, tol=0.001)\n",
        "\n",
        "        model.fit(X_train_mixed, y_train_mixed)\n",
        "\n",
        "        # make predictions on hold out test set\n",
        "        yhat = model.predict(X_test_pca)\n",
        "        # calculate score for test set\n",
        "        score = accuracy_score(y_test, yhat)\n",
        "        accuracy_scores.append(score)\n",
        "\n",
        "    # Calculate average accuracy and error margin\n",
        "    avg_accuracy = np.mean(accuracy_scores)\n",
        "    error_margin = np.std(accuracy_scores) / np.sqrt(len(accuracy_scores))  # Standard error\n",
        "\n",
        "    avg_accuracy_list_lb.append(avg_accuracy)\n",
        "    error_margin_list_lb.append(error_margin)\n",
        "\n",
        "    print('out:',out)\n",
        "    out = out + 1\n",
        "    n = n + 0.05"
      ],
      "metadata": {
        "colab": {
          "base_uri": "https://localhost:8080/",
          "height": 1000
        },
        "id": "OVvALG_FrYSV",
        "outputId": "54494d38-f60f-4b05-ea0f-b7f5e8f570c8",
        "collapsed": true
      },
      "execution_count": null,
      "outputs": [
        {
          "output_type": "stream",
          "name": "stderr",
          "text": [
            "/usr/local/lib/python3.11/dist-packages/sklearn/semi_supervised/_label_propagation.py:231: RuntimeWarning: invalid value encountered in divide\n",
            "  probabilities /= normalizer\n",
            "/usr/local/lib/python3.11/dist-packages/sklearn/semi_supervised/_label_propagation.py:231: RuntimeWarning: invalid value encountered in divide\n",
            "  probabilities /= normalizer\n",
            "/usr/local/lib/python3.11/dist-packages/sklearn/semi_supervised/_label_propagation.py:231: RuntimeWarning: invalid value encountered in divide\n",
            "  probabilities /= normalizer\n",
            "/usr/local/lib/python3.11/dist-packages/sklearn/semi_supervised/_label_propagation.py:231: RuntimeWarning: invalid value encountered in divide\n",
            "  probabilities /= normalizer\n",
            "/usr/local/lib/python3.11/dist-packages/sklearn/semi_supervised/_label_propagation.py:231: RuntimeWarning: invalid value encountered in divide\n",
            "  probabilities /= normalizer\n",
            "/usr/local/lib/python3.11/dist-packages/sklearn/semi_supervised/_label_propagation.py:231: RuntimeWarning: invalid value encountered in divide\n",
            "  probabilities /= normalizer\n",
            "/usr/local/lib/python3.11/dist-packages/sklearn/semi_supervised/_label_propagation.py:231: RuntimeWarning: invalid value encountered in divide\n",
            "  probabilities /= normalizer\n",
            "/usr/local/lib/python3.11/dist-packages/sklearn/semi_supervised/_label_propagation.py:231: RuntimeWarning: invalid value encountered in divide\n",
            "  probabilities /= normalizer\n",
            "/usr/local/lib/python3.11/dist-packages/sklearn/semi_supervised/_label_propagation.py:231: RuntimeWarning: invalid value encountered in divide\n",
            "  probabilities /= normalizer\n",
            "/usr/local/lib/python3.11/dist-packages/sklearn/semi_supervised/_label_propagation.py:231: RuntimeWarning: invalid value encountered in divide\n",
            "  probabilities /= normalizer\n"
          ]
        },
        {
          "output_type": "stream",
          "name": "stdout",
          "text": [
            "out: 1\n"
          ]
        },
        {
          "output_type": "stream",
          "name": "stderr",
          "text": [
            "/usr/local/lib/python3.11/dist-packages/sklearn/semi_supervised/_label_propagation.py:231: RuntimeWarning: invalid value encountered in divide\n",
            "  probabilities /= normalizer\n",
            "/usr/local/lib/python3.11/dist-packages/sklearn/semi_supervised/_label_propagation.py:231: RuntimeWarning: invalid value encountered in divide\n",
            "  probabilities /= normalizer\n",
            "/usr/local/lib/python3.11/dist-packages/sklearn/semi_supervised/_label_propagation.py:231: RuntimeWarning: invalid value encountered in divide\n",
            "  probabilities /= normalizer\n",
            "/usr/local/lib/python3.11/dist-packages/sklearn/semi_supervised/_label_propagation.py:231: RuntimeWarning: invalid value encountered in divide\n",
            "  probabilities /= normalizer\n",
            "/usr/local/lib/python3.11/dist-packages/sklearn/semi_supervised/_label_propagation.py:231: RuntimeWarning: invalid value encountered in divide\n",
            "  probabilities /= normalizer\n",
            "/usr/local/lib/python3.11/dist-packages/sklearn/semi_supervised/_label_propagation.py:231: RuntimeWarning: invalid value encountered in divide\n",
            "  probabilities /= normalizer\n",
            "/usr/local/lib/python3.11/dist-packages/sklearn/semi_supervised/_label_propagation.py:231: RuntimeWarning: invalid value encountered in divide\n",
            "  probabilities /= normalizer\n",
            "/usr/local/lib/python3.11/dist-packages/sklearn/semi_supervised/_label_propagation.py:231: RuntimeWarning: invalid value encountered in divide\n",
            "  probabilities /= normalizer\n",
            "/usr/local/lib/python3.11/dist-packages/sklearn/semi_supervised/_label_propagation.py:231: RuntimeWarning: invalid value encountered in divide\n",
            "  probabilities /= normalizer\n",
            "/usr/local/lib/python3.11/dist-packages/sklearn/semi_supervised/_label_propagation.py:231: RuntimeWarning: invalid value encountered in divide\n",
            "  probabilities /= normalizer\n"
          ]
        },
        {
          "output_type": "stream",
          "name": "stdout",
          "text": [
            "out: 2\n"
          ]
        },
        {
          "output_type": "stream",
          "name": "stderr",
          "text": [
            "/usr/local/lib/python3.11/dist-packages/sklearn/semi_supervised/_label_propagation.py:231: RuntimeWarning: invalid value encountered in divide\n",
            "  probabilities /= normalizer\n",
            "/usr/local/lib/python3.11/dist-packages/sklearn/semi_supervised/_label_propagation.py:231: RuntimeWarning: invalid value encountered in divide\n",
            "  probabilities /= normalizer\n",
            "/usr/local/lib/python3.11/dist-packages/sklearn/semi_supervised/_label_propagation.py:231: RuntimeWarning: invalid value encountered in divide\n",
            "  probabilities /= normalizer\n",
            "/usr/local/lib/python3.11/dist-packages/sklearn/semi_supervised/_label_propagation.py:231: RuntimeWarning: invalid value encountered in divide\n",
            "  probabilities /= normalizer\n",
            "/usr/local/lib/python3.11/dist-packages/sklearn/semi_supervised/_label_propagation.py:231: RuntimeWarning: invalid value encountered in divide\n",
            "  probabilities /= normalizer\n",
            "/usr/local/lib/python3.11/dist-packages/sklearn/semi_supervised/_label_propagation.py:231: RuntimeWarning: invalid value encountered in divide\n",
            "  probabilities /= normalizer\n",
            "/usr/local/lib/python3.11/dist-packages/sklearn/semi_supervised/_label_propagation.py:231: RuntimeWarning: invalid value encountered in divide\n",
            "  probabilities /= normalizer\n",
            "/usr/local/lib/python3.11/dist-packages/sklearn/semi_supervised/_label_propagation.py:231: RuntimeWarning: invalid value encountered in divide\n",
            "  probabilities /= normalizer\n",
            "/usr/local/lib/python3.11/dist-packages/sklearn/semi_supervised/_label_propagation.py:231: RuntimeWarning: invalid value encountered in divide\n",
            "  probabilities /= normalizer\n",
            "/usr/local/lib/python3.11/dist-packages/sklearn/semi_supervised/_label_propagation.py:231: RuntimeWarning: invalid value encountered in divide\n",
            "  probabilities /= normalizer\n"
          ]
        },
        {
          "output_type": "stream",
          "name": "stdout",
          "text": [
            "out: 3\n"
          ]
        },
        {
          "output_type": "stream",
          "name": "stderr",
          "text": [
            "/usr/local/lib/python3.11/dist-packages/sklearn/semi_supervised/_label_propagation.py:231: RuntimeWarning: invalid value encountered in divide\n",
            "  probabilities /= normalizer\n",
            "/usr/local/lib/python3.11/dist-packages/sklearn/semi_supervised/_label_propagation.py:231: RuntimeWarning: invalid value encountered in divide\n",
            "  probabilities /= normalizer\n",
            "/usr/local/lib/python3.11/dist-packages/sklearn/semi_supervised/_label_propagation.py:231: RuntimeWarning: invalid value encountered in divide\n",
            "  probabilities /= normalizer\n",
            "/usr/local/lib/python3.11/dist-packages/sklearn/semi_supervised/_label_propagation.py:231: RuntimeWarning: invalid value encountered in divide\n",
            "  probabilities /= normalizer\n",
            "/usr/local/lib/python3.11/dist-packages/sklearn/semi_supervised/_label_propagation.py:231: RuntimeWarning: invalid value encountered in divide\n",
            "  probabilities /= normalizer\n",
            "/usr/local/lib/python3.11/dist-packages/sklearn/semi_supervised/_label_propagation.py:231: RuntimeWarning: invalid value encountered in divide\n",
            "  probabilities /= normalizer\n",
            "/usr/local/lib/python3.11/dist-packages/sklearn/semi_supervised/_label_propagation.py:231: RuntimeWarning: invalid value encountered in divide\n",
            "  probabilities /= normalizer\n",
            "/usr/local/lib/python3.11/dist-packages/sklearn/semi_supervised/_label_propagation.py:231: RuntimeWarning: invalid value encountered in divide\n",
            "  probabilities /= normalizer\n",
            "/usr/local/lib/python3.11/dist-packages/sklearn/semi_supervised/_label_propagation.py:231: RuntimeWarning: invalid value encountered in divide\n",
            "  probabilities /= normalizer\n",
            "/usr/local/lib/python3.11/dist-packages/sklearn/semi_supervised/_label_propagation.py:231: RuntimeWarning: invalid value encountered in divide\n",
            "  probabilities /= normalizer\n"
          ]
        },
        {
          "output_type": "stream",
          "name": "stdout",
          "text": [
            "out: 4\n"
          ]
        },
        {
          "output_type": "stream",
          "name": "stderr",
          "text": [
            "/usr/local/lib/python3.11/dist-packages/sklearn/semi_supervised/_label_propagation.py:231: RuntimeWarning: invalid value encountered in divide\n",
            "  probabilities /= normalizer\n",
            "/usr/local/lib/python3.11/dist-packages/sklearn/semi_supervised/_label_propagation.py:231: RuntimeWarning: invalid value encountered in divide\n",
            "  probabilities /= normalizer\n",
            "/usr/local/lib/python3.11/dist-packages/sklearn/semi_supervised/_label_propagation.py:231: RuntimeWarning: invalid value encountered in divide\n",
            "  probabilities /= normalizer\n",
            "/usr/local/lib/python3.11/dist-packages/sklearn/semi_supervised/_label_propagation.py:231: RuntimeWarning: invalid value encountered in divide\n",
            "  probabilities /= normalizer\n",
            "/usr/local/lib/python3.11/dist-packages/sklearn/semi_supervised/_label_propagation.py:231: RuntimeWarning: invalid value encountered in divide\n",
            "  probabilities /= normalizer\n",
            "/usr/local/lib/python3.11/dist-packages/sklearn/semi_supervised/_label_propagation.py:231: RuntimeWarning: invalid value encountered in divide\n",
            "  probabilities /= normalizer\n"
          ]
        },
        {
          "output_type": "error",
          "ename": "KeyboardInterrupt",
          "evalue": "",
          "traceback": [
            "\u001b[0;31m---------------------------------------------------------------------------\u001b[0m",
            "\u001b[0;31mKeyboardInterrupt\u001b[0m                         Traceback (most recent call last)",
            "\u001b[0;32m<ipython-input-39-4b639602ec52>\u001b[0m in \u001b[0;36m<cell line: 0>\u001b[0;34m()\u001b[0m\n\u001b[1;32m     23\u001b[0m         \u001b[0mmodel\u001b[0m \u001b[0;34m=\u001b[0m \u001b[0mLabelSpreading\u001b[0m\u001b[0;34m(\u001b[0m\u001b[0mkernel\u001b[0m\u001b[0;34m=\u001b[0m\u001b[0;34m'rbf'\u001b[0m\u001b[0;34m,\u001b[0m \u001b[0mgamma\u001b[0m\u001b[0;34m=\u001b[0m\u001b[0;36m20\u001b[0m\u001b[0;34m,\u001b[0m \u001b[0mn_neighbors\u001b[0m\u001b[0;34m=\u001b[0m\u001b[0;36m7\u001b[0m\u001b[0;34m,\u001b[0m \u001b[0malpha\u001b[0m\u001b[0;34m=\u001b[0m\u001b[0;36m0.2\u001b[0m\u001b[0;34m,\u001b[0m \u001b[0mmax_iter\u001b[0m\u001b[0;34m=\u001b[0m\u001b[0;36m100\u001b[0m\u001b[0;34m,\u001b[0m \u001b[0mtol\u001b[0m\u001b[0;34m=\u001b[0m\u001b[0;36m0.001\u001b[0m\u001b[0;34m)\u001b[0m\u001b[0;34m\u001b[0m\u001b[0;34m\u001b[0m\u001b[0m\n\u001b[1;32m     24\u001b[0m \u001b[0;34m\u001b[0m\u001b[0m\n\u001b[0;32m---> 25\u001b[0;31m         \u001b[0mmodel\u001b[0m\u001b[0;34m.\u001b[0m\u001b[0mfit\u001b[0m\u001b[0;34m(\u001b[0m\u001b[0mX_train_mixed\u001b[0m\u001b[0;34m,\u001b[0m \u001b[0my_train_mixed\u001b[0m\u001b[0;34m)\u001b[0m\u001b[0;34m\u001b[0m\u001b[0;34m\u001b[0m\u001b[0m\n\u001b[0m\u001b[1;32m     26\u001b[0m \u001b[0;34m\u001b[0m\u001b[0m\n\u001b[1;32m     27\u001b[0m         \u001b[0;31m# make predictions on hold out test set\u001b[0m\u001b[0;34m\u001b[0m\u001b[0;34m\u001b[0m\u001b[0m\n",
            "\u001b[0;32m/usr/local/lib/python3.11/dist-packages/sklearn/base.py\u001b[0m in \u001b[0;36mwrapper\u001b[0;34m(estimator, *args, **kwargs)\u001b[0m\n\u001b[1;32m   1387\u001b[0m                 )\n\u001b[1;32m   1388\u001b[0m             ):\n\u001b[0;32m-> 1389\u001b[0;31m                 \u001b[0;32mreturn\u001b[0m \u001b[0mfit_method\u001b[0m\u001b[0;34m(\u001b[0m\u001b[0mestimator\u001b[0m\u001b[0;34m,\u001b[0m \u001b[0;34m*\u001b[0m\u001b[0margs\u001b[0m\u001b[0;34m,\u001b[0m \u001b[0;34m**\u001b[0m\u001b[0mkwargs\u001b[0m\u001b[0;34m)\u001b[0m\u001b[0;34m\u001b[0m\u001b[0;34m\u001b[0m\u001b[0m\n\u001b[0m\u001b[1;32m   1390\u001b[0m \u001b[0;34m\u001b[0m\u001b[0m\n\u001b[1;32m   1391\u001b[0m         \u001b[0;32mreturn\u001b[0m \u001b[0mwrapper\u001b[0m\u001b[0;34m\u001b[0m\u001b[0;34m\u001b[0m\u001b[0m\n",
            "\u001b[0;32m/usr/local/lib/python3.11/dist-packages/sklearn/semi_supervised/_label_propagation.py\u001b[0m in \u001b[0;36mfit\u001b[0;34m(self, X, y)\u001b[0m\n\u001b[1;32m    268\u001b[0m \u001b[0;34m\u001b[0m\u001b[0m\n\u001b[1;32m    269\u001b[0m         \u001b[0;31m# actual graph construction (implementations should override this)\u001b[0m\u001b[0;34m\u001b[0m\u001b[0;34m\u001b[0m\u001b[0m\n\u001b[0;32m--> 270\u001b[0;31m         \u001b[0mgraph_matrix\u001b[0m \u001b[0;34m=\u001b[0m \u001b[0mself\u001b[0m\u001b[0;34m.\u001b[0m\u001b[0m_build_graph\u001b[0m\u001b[0;34m(\u001b[0m\u001b[0;34m)\u001b[0m\u001b[0;34m\u001b[0m\u001b[0;34m\u001b[0m\u001b[0m\n\u001b[0m\u001b[1;32m    271\u001b[0m \u001b[0;34m\u001b[0m\u001b[0m\n\u001b[1;32m    272\u001b[0m         \u001b[0;31m# label construction\u001b[0m\u001b[0;34m\u001b[0m\u001b[0;34m\u001b[0m\u001b[0m\n",
            "\u001b[0;32m/usr/local/lib/python3.11/dist-packages/sklearn/semi_supervised/_label_propagation.py\u001b[0m in \u001b[0;36m_build_graph\u001b[0;34m(self)\u001b[0m\n\u001b[1;32m    621\u001b[0m         \u001b[0mn_samples\u001b[0m \u001b[0;34m=\u001b[0m \u001b[0mself\u001b[0m\u001b[0;34m.\u001b[0m\u001b[0mX_\u001b[0m\u001b[0;34m.\u001b[0m\u001b[0mshape\u001b[0m\u001b[0;34m[\u001b[0m\u001b[0;36m0\u001b[0m\u001b[0;34m]\u001b[0m\u001b[0;34m\u001b[0m\u001b[0;34m\u001b[0m\u001b[0m\n\u001b[1;32m    622\u001b[0m         \u001b[0maffinity_matrix\u001b[0m \u001b[0;34m=\u001b[0m \u001b[0mself\u001b[0m\u001b[0;34m.\u001b[0m\u001b[0m_get_kernel\u001b[0m\u001b[0;34m(\u001b[0m\u001b[0mself\u001b[0m\u001b[0;34m.\u001b[0m\u001b[0mX_\u001b[0m\u001b[0;34m)\u001b[0m\u001b[0;34m\u001b[0m\u001b[0;34m\u001b[0m\u001b[0m\n\u001b[0;32m--> 623\u001b[0;31m         \u001b[0mlaplacian\u001b[0m \u001b[0;34m=\u001b[0m \u001b[0mcsgraph_laplacian\u001b[0m\u001b[0;34m(\u001b[0m\u001b[0maffinity_matrix\u001b[0m\u001b[0;34m,\u001b[0m \u001b[0mnormed\u001b[0m\u001b[0;34m=\u001b[0m\u001b[0;32mTrue\u001b[0m\u001b[0;34m)\u001b[0m\u001b[0;34m\u001b[0m\u001b[0;34m\u001b[0m\u001b[0m\n\u001b[0m\u001b[1;32m    624\u001b[0m         \u001b[0mlaplacian\u001b[0m \u001b[0;34m=\u001b[0m \u001b[0;34m-\u001b[0m\u001b[0mlaplacian\u001b[0m\u001b[0;34m\u001b[0m\u001b[0;34m\u001b[0m\u001b[0m\n\u001b[1;32m    625\u001b[0m         \u001b[0;32mif\u001b[0m \u001b[0msparse\u001b[0m\u001b[0;34m.\u001b[0m\u001b[0missparse\u001b[0m\u001b[0;34m(\u001b[0m\u001b[0mlaplacian\u001b[0m\u001b[0;34m)\u001b[0m\u001b[0;34m:\u001b[0m\u001b[0;34m\u001b[0m\u001b[0;34m\u001b[0m\u001b[0m\n",
            "\u001b[0;32m/usr/local/lib/python3.11/dist-packages/scipy/sparse/csgraph/_laplacian.py\u001b[0m in \u001b[0;36mlaplacian\u001b[0;34m(csgraph, normed, return_diag, use_out_degree, copy, form, dtype, symmetrized)\u001b[0m\n\u001b[1;32m    357\u001b[0m     \u001b[0mdegree_axis\u001b[0m \u001b[0;34m=\u001b[0m \u001b[0;36m1\u001b[0m \u001b[0;32mif\u001b[0m \u001b[0muse_out_degree\u001b[0m \u001b[0;32melse\u001b[0m \u001b[0;36m0\u001b[0m\u001b[0;34m\u001b[0m\u001b[0;34m\u001b[0m\u001b[0m\n\u001b[1;32m    358\u001b[0m \u001b[0;34m\u001b[0m\u001b[0m\n\u001b[0;32m--> 359\u001b[0;31m     lap, d = create_lap(\n\u001b[0m\u001b[1;32m    360\u001b[0m         \u001b[0mcsgraph\u001b[0m\u001b[0;34m,\u001b[0m\u001b[0;34m\u001b[0m\u001b[0;34m\u001b[0m\u001b[0m\n\u001b[1;32m    361\u001b[0m         \u001b[0mnormed\u001b[0m\u001b[0;34m=\u001b[0m\u001b[0mnormed\u001b[0m\u001b[0;34m,\u001b[0m\u001b[0;34m\u001b[0m\u001b[0;34m\u001b[0m\u001b[0m\n",
            "\u001b[0;32m/usr/local/lib/python3.11/dist-packages/scipy/sparse/csgraph/_laplacian.py\u001b[0m in \u001b[0;36m_laplacian_dense\u001b[0;34m(graph, normed, axis, copy, form, dtype, symmetrized)\u001b[0m\n\u001b[1;32m    538\u001b[0m \u001b[0;34m\u001b[0m\u001b[0m\n\u001b[1;32m    539\u001b[0m     \u001b[0;32mif\u001b[0m \u001b[0mcopy\u001b[0m\u001b[0;34m:\u001b[0m\u001b[0;34m\u001b[0m\u001b[0;34m\u001b[0m\u001b[0m\n\u001b[0;32m--> 540\u001b[0;31m         \u001b[0mm\u001b[0m \u001b[0;34m=\u001b[0m \u001b[0mnp\u001b[0m\u001b[0;34m.\u001b[0m\u001b[0marray\u001b[0m\u001b[0;34m(\u001b[0m\u001b[0mgraph\u001b[0m\u001b[0;34m)\u001b[0m\u001b[0;34m\u001b[0m\u001b[0;34m\u001b[0m\u001b[0m\n\u001b[0m\u001b[1;32m    541\u001b[0m     \u001b[0;32melse\u001b[0m\u001b[0;34m:\u001b[0m\u001b[0;34m\u001b[0m\u001b[0;34m\u001b[0m\u001b[0m\n\u001b[1;32m    542\u001b[0m         \u001b[0mm\u001b[0m \u001b[0;34m=\u001b[0m \u001b[0mnp\u001b[0m\u001b[0;34m.\u001b[0m\u001b[0masarray\u001b[0m\u001b[0;34m(\u001b[0m\u001b[0mgraph\u001b[0m\u001b[0;34m)\u001b[0m\u001b[0;34m\u001b[0m\u001b[0;34m\u001b[0m\u001b[0m\n",
            "\u001b[0;31mKeyboardInterrupt\u001b[0m: "
          ]
        }
      ]
    },
    {
      "cell_type": "code",
      "source": [
        "print('average accuracy score:', avg_accuracy_list_lb)\n",
        "print('error margin:', error_margin_list_lb)"
      ],
      "metadata": {
        "colab": {
          "base_uri": "https://localhost:8080/"
        },
        "id": "ZBiCixa4-S5J",
        "outputId": "cce4967b-58b9-43e7-9a19-30141f041159"
      },
      "execution_count": null,
      "outputs": [
        {
          "output_type": "stream",
          "name": "stdout",
          "text": [
            "average accuracy score: [0.7501668149466191, 0.7551712633451956, 0.7582110023724793, 0.759656731909846, 0.757302787663108, 0.7593972419928826, 0.7602498517200474, 0.7579329774614472, 0.7593972419928826, 0.7578959074733096, 0.7579700474495848, 0.7592674970344009, 0.7604166666666667, 0.7621218861209964, 0.7625667259786477, 0.7635305456702255, 0.7649577402135231, 0.7654211150652432, 0.7653840450771056]\n",
            "error margin: [3.510833468576701e-17, 3.510833468576701e-17, 0.0, 3.510833468576701e-17, 0.0, 0.0, 0.0, 0.0, 0.0, 0.0, 0.0, 3.510833468576701e-17, 3.510833468576701e-17, 0.0, 0.0, 3.510833468576701e-17, 0.0, 3.510833468576701e-17, 0.0]\n"
          ]
        }
      ]
    },
    {
      "cell_type": "code",
      "source": [
        "import matplotlib.pyplot as plt\n",
        "import numpy as np\n",
        "\n",
        "# Assuming score_list is already populated\n",
        "\n",
        "plt.figure(figsize=(12, 6))\n",
        "# Create x-values as percentages from 5% to 95%\n",
        "x_values = np.arange(0.05, 1, 0.05)  # Start at 5%, increment by 5%, end at 95%\n",
        "scaled_error = [e * 1e13 for e in error_margin_list_lb]  # Increased scaling factor\n",
        "# Plot the data\n",
        "plt.errorbar(x_values, avg_accuracy_list_lb, yerr=scaled_error, ecolor='red',\n",
        "             marker='o', markersize=4, linestyle='-', linewidth=1, capsize=4,\n",
        "             color='green', elinewidth=1, capthick=1\n",
        "             )\n",
        "\n",
        "# Customize the x-axis labels to show percentages\n",
        "plt.xticks(x_values, [f'{int(p*100)}%' for p in x_values])  # Convert to percentage labels\n",
        "\n",
        "\n",
        "# Add title and labels\n",
        "plt.title('Accuracy Scores')\n",
        "plt.xlabel('Percentage of Labeled Data')  # Customize x-axis label\n",
        "plt.ylabel('Accuracy')\n",
        "# Add sidenote using text or annotate\n",
        "plt.text(\n",
        "    0.05,  # Adjust x-coordinate for positioning\n",
        "    0.05,  # Adjust y-coordinate for positioning\n",
        "    'Error margin enlarged by 10^13',  # Your sidenote text\n",
        "    transform=plt.gca().transAxes,  # Use axes coordinates\n",
        "    fontsize=10,  # Adjust fontsize as needed\n",
        "    ha='left',  # Horizontal alignment\n",
        "    va='bottom'  # Vertical alignment\n",
        ")\n",
        "plt.ylim(min(avg_accuracy_list_lb) - 0.01, max(avg_accuracy_list_lb) + 0.01)\n",
        "plt.grid(True)\n",
        "plt.show()"
      ],
      "metadata": {
        "colab": {
          "base_uri": "https://localhost:8080/",
          "height": 564
        },
        "id": "t_Nqlzab188P",
        "outputId": "6f20e05a-9b1c-4c53-b6fe-bd7438dc00e2"
      },
      "execution_count": null,
      "outputs": [
        {
          "output_type": "display_data",
          "data": {
            "text/plain": [
              "<Figure size 1200x600 with 1 Axes>"
            ],
            "image/png": "[encoded data removed]"
          },
          "metadata": {}
        }
      ]
    },
    {
      "cell_type": "code",
      "source": [
        "from sklearn.metrics import accuracy_score, precision_score, recall_score, f1_score\n",
        "from numpy import concatenate\n",
        "from sklearn.datasets import make_classification\n",
        "from sklearn.model_selection import train_test_split\n",
        "from sklearn.semi_supervised import LabelSpreading\n",
        "\n",
        "\n",
        "n = 0.05\n",
        "accuracy_list_lb = []\n",
        "precision_list_lb = []\n",
        "recall_list_lb = []\n",
        "f1_list_lb = []\n",
        "out = 1\n",
        "\n",
        "for i in range(1, 20):\n",
        "\n",
        "    X_labeled, X_unlabeled, y_labeled, y_unlabeled = train_test_split(\n",
        "        X1, y1, train_size=n, random_state=42\n",
        "    )\n",
        "\n",
        "    nolabel = [-1 for _ in range(len(y_unlabeled))]\n",
        "    X_train_mixed = concatenate((X_labeled, X_unlabeled))\n",
        "    y_train_mixed = concatenate((y_labeled, nolabel))\n",
        "\n",
        "    model = LabelSpreading(kernel='rbf', gamma=20, n_neighbors=7, alpha=0.2, max_iter=100, tol=0.001)\n",
        "    model.fit(X_train_mixed, y_train_mixed)\n",
        "\n",
        "    yhat = model.predict(X_test_pca)\n",
        "\n",
        "    accuracy_list_lb.append(accuracy_score(y_test, yhat))\n",
        "    precision_list_lb.append(precision_score(y_test, yhat))\n",
        "    recall_list_lb.append(recall_score(y_test, yhat))\n",
        "    f1_list_lb.append(f1_score(y_test, yhat))\n",
        "\n",
        "    print('out:', out)\n",
        "    out = out + 1\n",
        "    n = n + 0.05\n",
        "\n"
      ],
      "metadata": {
        "id": "CaEaPanwsYz2",
        "colab": {
          "base_uri": "https://localhost:8080/"
        },
        "outputId": "5d10a4ab-65a6-4a59-9ead-ab9837dc8f68",
        "collapsed": true
      },
      "execution_count": null,
      "outputs": [
        {
          "output_type": "stream",
          "name": "stderr",
          "text": [
            "/usr/local/lib/python3.11/dist-packages/sklearn/semi_supervised/_label_propagation.py:231: RuntimeWarning: invalid value encountered in divide\n",
            "  probabilities /= normalizer\n"
          ]
        },
        {
          "output_type": "stream",
          "name": "stdout",
          "text": [
            "out: 1\n"
          ]
        },
        {
          "output_type": "stream",
          "name": "stderr",
          "text": [
            "/usr/local/lib/python3.11/dist-packages/sklearn/semi_supervised/_label_propagation.py:231: RuntimeWarning: invalid value encountered in divide\n",
            "  probabilities /= normalizer\n"
          ]
        },
        {
          "output_type": "stream",
          "name": "stdout",
          "text": [
            "out: 2\n"
          ]
        },
        {
          "output_type": "stream",
          "name": "stderr",
          "text": [
            "/usr/local/lib/python3.11/dist-packages/sklearn/semi_supervised/_label_propagation.py:231: RuntimeWarning: invalid value encountered in divide\n",
            "  probabilities /= normalizer\n"
          ]
        },
        {
          "output_type": "stream",
          "name": "stdout",
          "text": [
            "out: 3\n"
          ]
        },
        {
          "output_type": "stream",
          "name": "stderr",
          "text": [
            "/usr/local/lib/python3.11/dist-packages/sklearn/semi_supervised/_label_propagation.py:231: RuntimeWarning: invalid value encountered in divide\n",
            "  probabilities /= normalizer\n"
          ]
        },
        {
          "output_type": "stream",
          "name": "stdout",
          "text": [
            "out: 4\n"
          ]
        },
        {
          "output_type": "stream",
          "name": "stderr",
          "text": [
            "/usr/local/lib/python3.11/dist-packages/sklearn/semi_supervised/_label_propagation.py:231: RuntimeWarning: invalid value encountered in divide\n",
            "  probabilities /= normalizer\n"
          ]
        },
        {
          "output_type": "stream",
          "name": "stdout",
          "text": [
            "out: 5\n"
          ]
        },
        {
          "output_type": "stream",
          "name": "stderr",
          "text": [
            "/usr/local/lib/python3.11/dist-packages/sklearn/semi_supervised/_label_propagation.py:231: RuntimeWarning: invalid value encountered in divide\n",
            "  probabilities /= normalizer\n"
          ]
        },
        {
          "output_type": "stream",
          "name": "stdout",
          "text": [
            "out: 6\n"
          ]
        },
        {
          "output_type": "stream",
          "name": "stderr",
          "text": [
            "/usr/local/lib/python3.11/dist-packages/sklearn/semi_supervised/_label_propagation.py:231: RuntimeWarning: invalid value encountered in divide\n",
            "  probabilities /= normalizer\n"
          ]
        },
        {
          "output_type": "stream",
          "name": "stdout",
          "text": [
            "out: 7\n"
          ]
        },
        {
          "output_type": "stream",
          "name": "stderr",
          "text": [
            "/usr/local/lib/python3.11/dist-packages/sklearn/semi_supervised/_label_propagation.py:231: RuntimeWarning: invalid value encountered in divide\n",
            "  probabilities /= normalizer\n"
          ]
        },
        {
          "output_type": "stream",
          "name": "stdout",
          "text": [
            "out: 8\n"
          ]
        },
        {
          "output_type": "stream",
          "name": "stderr",
          "text": [
            "/usr/local/lib/python3.11/dist-packages/sklearn/semi_supervised/_label_propagation.py:231: RuntimeWarning: invalid value encountered in divide\n",
            "  probabilities /= normalizer\n"
          ]
        },
        {
          "output_type": "stream",
          "name": "stdout",
          "text": [
            "out: 9\n"
          ]
        },
        {
          "output_type": "stream",
          "name": "stderr",
          "text": [
            "/usr/local/lib/python3.11/dist-packages/sklearn/semi_supervised/_label_propagation.py:231: RuntimeWarning: invalid value encountered in divide\n",
            "  probabilities /= normalizer\n"
          ]
        },
        {
          "output_type": "stream",
          "name": "stdout",
          "text": [
            "out: 10\n"
          ]
        },
        {
          "output_type": "stream",
          "name": "stderr",
          "text": [
            "/usr/local/lib/python3.11/dist-packages/sklearn/semi_supervised/_label_propagation.py:231: RuntimeWarning: invalid value encountered in divide\n",
            "  probabilities /= normalizer\n"
          ]
        },
        {
          "output_type": "stream",
          "name": "stdout",
          "text": [
            "out: 11\n"
          ]
        },
        {
          "output_type": "stream",
          "name": "stderr",
          "text": [
            "/usr/local/lib/python3.11/dist-packages/sklearn/semi_supervised/_label_propagation.py:231: RuntimeWarning: invalid value encountered in divide\n",
            "  probabilities /= normalizer\n"
          ]
        },
        {
          "output_type": "stream",
          "name": "stdout",
          "text": [
            "out: 12\n"
          ]
        },
        {
          "output_type": "stream",
          "name": "stderr",
          "text": [
            "/usr/local/lib/python3.11/dist-packages/sklearn/semi_supervised/_label_propagation.py:231: RuntimeWarning: invalid value encountered in divide\n",
            "  probabilities /= normalizer\n"
          ]
        },
        {
          "output_type": "stream",
          "name": "stdout",
          "text": [
            "out: 13\n"
          ]
        },
        {
          "output_type": "stream",
          "name": "stderr",
          "text": [
            "/usr/local/lib/python3.11/dist-packages/sklearn/semi_supervised/_label_propagation.py:231: RuntimeWarning: invalid value encountered in divide\n",
            "  probabilities /= normalizer\n"
          ]
        },
        {
          "output_type": "stream",
          "name": "stdout",
          "text": [
            "out: 14\n"
          ]
        },
        {
          "output_type": "stream",
          "name": "stderr",
          "text": [
            "/usr/local/lib/python3.11/dist-packages/sklearn/semi_supervised/_label_propagation.py:231: RuntimeWarning: invalid value encountered in divide\n",
            "  probabilities /= normalizer\n"
          ]
        },
        {
          "output_type": "stream",
          "name": "stdout",
          "text": [
            "out: 15\n"
          ]
        },
        {
          "output_type": "stream",
          "name": "stderr",
          "text": [
            "/usr/local/lib/python3.11/dist-packages/sklearn/semi_supervised/_label_propagation.py:231: RuntimeWarning: invalid value encountered in divide\n",
            "  probabilities /= normalizer\n"
          ]
        },
        {
          "output_type": "stream",
          "name": "stdout",
          "text": [
            "out: 16\n"
          ]
        },
        {
          "output_type": "stream",
          "name": "stderr",
          "text": [
            "/usr/local/lib/python3.11/dist-packages/sklearn/semi_supervised/_label_propagation.py:231: RuntimeWarning: invalid value encountered in divide\n",
            "  probabilities /= normalizer\n"
          ]
        },
        {
          "output_type": "stream",
          "name": "stdout",
          "text": [
            "out: 17\n"
          ]
        },
        {
          "output_type": "stream",
          "name": "stderr",
          "text": [
            "/usr/local/lib/python3.11/dist-packages/sklearn/semi_supervised/_label_propagation.py:231: RuntimeWarning: invalid value encountered in divide\n",
            "  probabilities /= normalizer\n"
          ]
        },
        {
          "output_type": "stream",
          "name": "stdout",
          "text": [
            "out: 18\n",
            "out: 19\n"
          ]
        },
        {
          "output_type": "stream",
          "name": "stderr",
          "text": [
            "/usr/local/lib/python3.11/dist-packages/sklearn/semi_supervised/_label_propagation.py:231: RuntimeWarning: invalid value encountered in divide\n",
            "  probabilities /= normalizer\n"
          ]
        }
      ]
    },
    {
      "cell_type": "code",
      "source": [
        "print('Accuracy:', accuracy_list_lb)\n",
        "print('Precision:', precision_list_lb)\n",
        "print('Recall:', recall_list_lb)\n",
        "print('F1-score:', f1_list_lb)"
      ],
      "metadata": {
        "colab": {
          "base_uri": "https://localhost:8080/"
        },
        "id": "ueV4DCJKqXgm",
        "outputId": "df5d106a-e1f3-4d12-f47c-640a90e083a7"
      },
      "execution_count": null,
      "outputs": [
        {
          "output_type": "stream",
          "name": "stdout",
          "text": [
            "Accuracy: [0.7475348457888493, 0.7518349644128114, 0.7588226571767497, 0.7604537366548043, 0.7610653914590747, 0.763196915776987, 0.7658844899169632, 0.7652172301304864, 0.7678491992882562, 0.768145759193357, 0.7672931494661922, 0.7659956998813761, 0.7643831553973903, 0.7623813760379596, 0.7637715005931198, 0.763845640569395, 0.7643090154211151, 0.765346975088968, 0.7652543001186239]\n",
            "Precision: [0.6040004075118008, 0.6091930330825518, 0.6170234950646462, 0.6184539519377691, 0.617633936232282, 0.6196525441186569, 0.6226174473511874, 0.622081192011865, 0.6252297873816378, 0.6256292747283269, 0.6241754446554999, 0.6225856429678086, 0.6204204615489968, 0.6181991944842652, 0.6199499708734537, 0.6199116710602897, 0.6201709401709402, 0.621385500890777, 0.621462142783629]\n",
            "Recall: [0.9007393902562544, 0.8980553023397144, 0.8990681657044465, 0.9019041831256963, 0.9113744555859414, 0.914007900334245, 0.9148181910260306, 0.9134001823154057, 0.9128937506330396, 0.9125898916236199, 0.91527397954016, 0.9157804112225261, 0.9176542084472805, 0.9172490631013877, 0.9162361997366555, 0.9169958472602046, 0.9186670718120126, 0.9185151423073027, 0.9174009926060974]\n",
            "F1-score: [0.723111011729311, 0.725944120356156, 0.7318108743146874, 0.7337563347204483, 0.7362886893193953, 0.7385824193812408, 0.7409503886461987, 0.7401054596934693, 0.7421619284846738, 0.7423427876990257, 0.7422024188415022, 0.7412432620770224, 0.7403170452688348, 0.7386020716091672, 0.7395205297471847, 0.739740578081912, 0.740468609682423, 0.7412841786896637, 0.7409755598731976]\n"
          ]
        }
      ]
    },
    {
      "cell_type": "code",
      "source": [
        "import matplotlib.pyplot as plt\n",
        "import numpy as np\n",
        "\n",
        "\n",
        "# Plotting the metrics\n",
        "x_values = np.arange(0.05, 1, 0.05)  # Values for the x-axis (percentage of labeled data)\n",
        "\n",
        "plt.figure(figsize=(12, 6))  # Adjust figure size as needed\n",
        "\n",
        "plt.plot(x_values, accuracy_list_lb, marker='o', linestyle='-', color='blue', label='Accuracy')\n",
        "plt.plot(x_values, precision_list_lb, marker='s', linestyle='-', color='green', label='Precision')\n",
        "plt.plot(x_values, recall_list_lb, marker='^', linestyle='-', color='red', label='Recall')\n",
        "plt.plot(x_values, f1_list_lb, marker='d', linestyle='-', color='purple', label='F1-score')\n",
        "\n",
        "plt.xticks(x_values, [f'{int(p*100)}%' for p in x_values])  # Format x-axis ticks as percentages\n",
        "plt.title('Performance Metrics for Label Spreading', fontsize=18)\n",
        "plt.xlabel('Percentage of Labeled Data', fontsize=16)\n",
        "plt.ylabel('Score', fontsize=16)\n",
        "plt.grid(True)\n",
        "plt.legend(fontsize=14)  # Show the legend\n",
        "plt.show()"
      ],
      "metadata": {
        "colab": {
          "base_uri": "https://localhost:8080/",
          "height": 575
        },
        "id": "vK8pqe-IwUEb",
        "outputId": "30977b47-d558-4683-f997-e9c504d0a9bf"
      },
      "execution_count": null,
      "outputs": [
        {
          "output_type": "display_data",
          "data": {
            "text/plain": [
              "<Figure size 1200x600 with 1 Axes>"
            ],
            "image/png": "[encoded data removed]"
          },
          "metadata": {}
        }
      ]
    },
    {
      "cell_type": "markdown",
      "source": [
        "#Self_Training\n"
      ],
      "metadata": {
        "id": "ILi02euac8eb"
      }
    },
    {
      "cell_type": "code",
      "source": [
        "from numpy import concatenate\n",
        "from sklearn.semi_supervised import SelfTrainingClassifier\n",
        "from sklearn.tree import DecisionTreeClassifier\n",
        "from sklearn.model_selection import train_test_split\n",
        "from sklearn.metrics import accuracy_score\n",
        "from sklearn.neighbors import KNeighborsClassifier\n",
        "import numpy as np"
      ],
      "metadata": {
        "id": "bdlir19O4LsB"
      },
      "execution_count": null,
      "outputs": []
    },
    {
      "cell_type": "code",
      "source": [
        "n = 0.05\n",
        "avg_accuracy_list_st = []  # To store average accuracy for each n\n",
        "error_margin_list_st = []  # To store error margin for each n\n",
        "out = 1\n",
        "#base_classifier = DecisionTreeClassifier(min_samples_split=500, max_depth=8, random_state=42)\n",
        "base_classifier = KNeighborsClassifier(n_neighbors=10)\n",
        "for i in range(1, 20):\n",
        "    accuracy_scores_st = []  # To store accuracy scores for 10 runs\n",
        "    ins = 1\n",
        "\n",
        "    for _ in range(10):  # Run the model 10 times\n",
        "        X_labeled, X_unlabeled, y_labeled, y_unlabeled = train_test_split(\n",
        "            X1, y1, train_size=n, random_state=42\n",
        "        )\n",
        "\n",
        "        # create \"no label\" for unlabeled data\n",
        "        nolabel = [-1 for _ in range(len(y_unlabeled))]\n",
        "\n",
        "        # create the training dataset input\n",
        "        X_train_mixed = concatenate((X_labeled, X_unlabeled))\n",
        "\n",
        "        # recombine training dataset labels\n",
        "        y_train_mixed = concatenate((y_labeled, nolabel))\n",
        "\n",
        "        # define model\n",
        "        self_training_clf = SelfTrainingClassifier(base_classifier, threshold=0.9)\n",
        "\n",
        "        self_training_clf.fit(X_train_mixed, y_train_mixed)\n",
        "\n",
        "        # make predictions on hold out test set\n",
        "        yhat = self_training_clf.predict(X_test_pca)\n",
        "        # calculate score for test set\n",
        "        score = accuracy_score(y_test, yhat)\n",
        "        accuracy_scores_st.append(score)\n",
        "        print(ins)\n",
        "        ins = ins +1\n",
        "\n",
        "    # Calculate average accuracy and error margin\n",
        "    avg_accuracy_st = np.mean(accuracy_scores_st)\n",
        "    error_margin_st = np.std(accuracy_scores_st) / np.sqrt(len(accuracy_scores_st))  # Standard error\n",
        "\n",
        "    avg_accuracy_list_st.append(avg_accuracy_st)\n",
        "    error_margin_list_st.append(error_margin_st)\n",
        "\n",
        "    n = n + 0.05\n",
        "    print('out:',out)\n",
        "    out = out + 1"
      ],
      "metadata": {
        "id": "65Fk1paSkxmp",
        "colab": {
          "base_uri": "https://localhost:8080/"
        },
        "outputId": "dcc15116-662b-4c75-f87f-f0c68ce6902d",
        "collapsed": true
      },
      "execution_count": null,
      "outputs": [
        {
          "output_type": "stream",
          "name": "stdout",
          "text": [
            "1\n",
            "2\n",
            "3\n",
            "4\n",
            "5\n",
            "6\n",
            "7\n",
            "8\n",
            "9\n",
            "10\n",
            "out: 1\n",
            "1\n",
            "2\n",
            "3\n",
            "4\n",
            "5\n",
            "6\n",
            "7\n",
            "8\n",
            "9\n",
            "10\n",
            "out: 2\n",
            "1\n",
            "2\n",
            "3\n",
            "4\n",
            "5\n",
            "6\n",
            "7\n",
            "8\n",
            "9\n",
            "10\n",
            "out: 3\n",
            "1\n",
            "2\n",
            "3\n",
            "4\n",
            "5\n",
            "6\n",
            "7\n",
            "8\n",
            "9\n",
            "10\n",
            "out: 4\n",
            "1\n",
            "2\n",
            "3\n",
            "4\n",
            "5\n",
            "6\n",
            "7\n",
            "8\n",
            "9\n",
            "10\n",
            "out: 5\n",
            "1\n",
            "2\n",
            "3\n",
            "4\n",
            "5\n",
            "6\n",
            "7\n",
            "8\n",
            "9\n",
            "10\n",
            "out: 6\n",
            "1\n",
            "2\n",
            "3\n",
            "4\n",
            "5\n",
            "6\n",
            "7\n",
            "8\n",
            "9\n",
            "10\n",
            "out: 7\n",
            "1\n",
            "2\n",
            "3\n",
            "4\n",
            "5\n",
            "6\n",
            "7\n",
            "8\n",
            "9\n",
            "10\n",
            "out: 8\n",
            "1\n",
            "2\n",
            "3\n",
            "4\n",
            "5\n",
            "6\n",
            "7\n",
            "8\n",
            "9\n",
            "10\n",
            "out: 9\n",
            "1\n",
            "2\n",
            "3\n",
            "4\n",
            "5\n",
            "6\n",
            "7\n",
            "8\n",
            "9\n",
            "10\n",
            "out: 10\n",
            "1\n",
            "2\n",
            "3\n",
            "4\n",
            "5\n",
            "6\n",
            "7\n",
            "8\n",
            "9\n",
            "10\n",
            "out: 11\n",
            "1\n",
            "2\n",
            "3\n",
            "4\n",
            "5\n",
            "6\n",
            "7\n",
            "8\n",
            "9\n",
            "10\n",
            "out: 12\n",
            "1\n",
            "2\n",
            "3\n",
            "4\n",
            "5\n",
            "6\n",
            "7\n",
            "8\n",
            "9\n",
            "10\n",
            "out: 13\n",
            "1\n",
            "2\n",
            "3\n",
            "4\n",
            "5\n",
            "6\n",
            "7\n",
            "8\n",
            "9\n",
            "10\n",
            "out: 14\n",
            "1\n",
            "2\n",
            "3\n",
            "4\n",
            "5\n",
            "6\n",
            "7\n",
            "8\n",
            "9\n",
            "10\n",
            "out: 15\n",
            "1\n",
            "2\n",
            "3\n",
            "4\n",
            "5\n",
            "6\n",
            "7\n",
            "8\n",
            "9\n",
            "10\n",
            "out: 16\n",
            "1\n",
            "2\n",
            "3\n",
            "4\n",
            "5\n",
            "6\n",
            "7\n",
            "8\n",
            "9\n",
            "10\n",
            "out: 17\n",
            "1\n",
            "2\n",
            "3\n",
            "4\n",
            "5\n",
            "6\n",
            "7\n",
            "8\n",
            "9\n",
            "10\n",
            "out: 18\n",
            "1\n",
            "2\n",
            "3\n",
            "4\n",
            "5\n",
            "6\n",
            "7\n",
            "8\n",
            "9\n",
            "10\n",
            "out: 19\n"
          ]
        }
      ]
    },
    {
      "cell_type": "code",
      "source": [
        "print('average accuracy score for Self-Training:', avg_accuracy_list_st)\n",
        "print('error margin for Self-Training:', error_margin_list_st)"
      ],
      "metadata": {
        "colab": {
          "base_uri": "https://localhost:8080/"
        },
        "id": "pZWn1eZLlolO",
        "outputId": "c9d04442-c836-4bd0-a420-e8dc0f7220b1"
      },
      "execution_count": null,
      "outputs": [
        {
          "output_type": "stream",
          "name": "stdout",
          "text": [
            "average accuracy score for Self-Training: [0.6672968564650059, 0.7006413107947804, 0.709297153024911, 0.7217341340450771, 0.7233281435349941, 0.7310016310794779, 0.736988434163701, 0.7373220640569393, 0.7402876631079478, 0.7436239620403321, 0.7436981020166072, 0.7447360616844602, 0.7463115361803084, 0.7481650355871886, 0.7481094306049823, 0.7489249703440095, 0.749443950177936, 0.7502038849347568, 0.7499258600237246]\n",
            "error margin for Self-Training: [0.0, 3.510833468576701e-17, 0.0, 0.0, 0.0, 3.510833468576701e-17, 3.510833468576701e-17, 3.510833468576701e-17, 0.0, 0.0, 3.510833468576701e-17, 3.510833468576701e-17, 0.0, 0.0, 0.0, 0.0, 0.0, 3.510833468576701e-17, 3.510833468576701e-17]\n"
          ]
        }
      ]
    },
    {
      "cell_type": "code",
      "source": [
        "import matplotlib.pyplot as plt\n",
        "import numpy as np\n",
        "\n",
        "# Assuming score_list is already populated\n",
        "\n",
        "plt.figure(figsize=(12, 6))\n",
        "# Create x-values as percentages from 5% to 95%\n",
        "x_values = np.arange(0.05, 1, 0.05)  # Start at 5%, increment by 5%, end at 95%\n",
        "scaled_error = [e * 1e13 for e in error_margin_list_st]  # Increased scaling factor\n",
        "# Plot the data\n",
        "plt.errorbar(x_values, avg_accuracy_list_st, yerr=scaled_error, ecolor='red',\n",
        "             marker='o', markersize=4, linestyle='-', linewidth=1, capsize=4,\n",
        "             color='blue', elinewidth=1, capthick=1\n",
        "             )\n",
        "\n",
        "# Customize the x-axis labels to show percentages\n",
        "plt.xticks(x_values, [f'{int(p*100)}%' for p in x_values])  # Convert to percentage labels\n",
        "\n",
        "# Add title and labels\n",
        "plt.title('Accuracy Scores')\n",
        "plt.xlabel('Percentage of Labeled Data')  # Customize x-axis label\n",
        "plt.ylabel('Accuracy')\n",
        "# Add sidenote using text or annotate\n",
        "plt.text(\n",
        "    0.05,  # Adjust x-coordinate for positioning\n",
        "    0.05,  # Adjust y-coordinate for positioning\n",
        "    'Error margin enlarged by 10^13',  # Your sidenote text\n",
        "    transform=plt.gca().transAxes,  # Use axes coordinates\n",
        "    fontsize=10,  # Adjust fontsize as needed\n",
        "    ha='left',  # Horizontal alignment\n",
        "    va='bottom'  # Vertical alignment\n",
        ")\n",
        "plt.ylim(min(avg_accuracy_list_st) - 0.01, max(avg_accuracy_list_st) + 0.01)\n",
        "plt.grid(True)\n",
        "plt.show()"
      ],
      "metadata": {
        "colab": {
          "base_uri": "https://localhost:8080/",
          "height": 564
        },
        "id": "ZtuH-3B36Nx4",
        "outputId": "84be009e-7265-4df5-ceb0-eab19c2080b7"
      },
      "execution_count": null,
      "outputs": [
        {
          "output_type": "display_data",
          "data": {
            "text/plain": [
              "<Figure size 1200x600 with 1 Axes>"
            ],
            "image/png": "[encoded data removed]"
          },
          "metadata": {}
        }
      ]
    },
    {
      "cell_type": "code",
      "source": [
        "from numpy import concatenate\n",
        "from sklearn.semi_supervised import SelfTrainingClassifier\n",
        "from sklearn.tree import DecisionTreeClassifier\n",
        "from sklearn.model_selection import train_test_split\n",
        "from sklearn.metrics import accuracy_score, precision_score, recall_score, f1_score\n",
        "from sklearn.neighbors import KNeighborsClassifier\n",
        "import numpy as np\n",
        "\n",
        "n = 0.05\n",
        "accuracy_list_st = []\n",
        "precision_list_st = []\n",
        "recall_list_st = []\n",
        "f1_list_st = []\n",
        "out = 1\n",
        "base_classifier = KNeighborsClassifier(n_neighbors=10)\n",
        "\n",
        "for i in range(1, 20):\n",
        "\n",
        "    X_labeled, X_unlabeled, y_labeled, y_unlabeled = train_test_split(\n",
        "        X1, y1, train_size=n, random_state=42\n",
        "    )\n",
        "\n",
        "    nolabel = [-1 for _ in range(len(y_unlabeled))]\n",
        "    X_train_mixed = concatenate((X_labeled, X_unlabeled))\n",
        "    y_train_mixed = concatenate((y_labeled, nolabel))\n",
        "\n",
        "    self_training_clf = SelfTrainingClassifier(base_classifier, threshold=0.9)\n",
        "\n",
        "    self_training_clf.fit(X_train_mixed, y_train_mixed)\n",
        "\n",
        "    yhat = self_training_clf.predict(X_test_pca)\n",
        "\n",
        "    accuracy_list_st.append(accuracy_score(y_test, yhat))\n",
        "    precision_list_st.append(precision_score(y_test, yhat))\n",
        "    recall_list_st.append(recall_score(y_test, yhat))\n",
        "    f1_list_st.append(f1_score(y_test, yhat))\n",
        "\n",
        "    print('out:', out)\n",
        "    out = out + 1\n",
        "    n = n + 0.05\n"
      ],
      "metadata": {
        "colab": {
          "base_uri": "https://localhost:8080/"
        },
        "id": "5waCJBtRw1nM",
        "outputId": "6e1fe9ce-8f13-46a6-ba29-d84202c6ad90"
      },
      "execution_count": null,
      "outputs": [
        {
          "output_type": "stream",
          "name": "stdout",
          "text": [
            "out: 1\n",
            "out: 2\n",
            "out: 3\n",
            "out: 4\n",
            "out: 5\n",
            "out: 6\n",
            "out: 7\n",
            "out: 8\n",
            "out: 9\n",
            "out: 10\n",
            "out: 11\n",
            "out: 12\n",
            "out: 13\n",
            "out: 14\n",
            "out: 15\n",
            "out: 16\n",
            "out: 17\n",
            "out: 18\n",
            "out: 19\n"
          ]
        }
      ]
    },
    {
      "cell_type": "code",
      "source": [
        "print('Accuracy:', accuracy_list_st)\n",
        "print('Precision:', precision_list_st)\n",
        "print('Recall:', recall_list_st)\n",
        "print('F1-score:', f1_list_st)"
      ],
      "metadata": {
        "colab": {
          "base_uri": "https://localhost:8080/"
        },
        "id": "T4RZLFH6w2xl",
        "outputId": "164d575b-b192-4be2-d6ab-1e634e581b64"
      },
      "execution_count": null,
      "outputs": [
        {
          "output_type": "stream",
          "name": "stdout",
          "text": [
            "Accuracy: [0.6722456998813761, 0.7170447805456702, 0.7251816429418743, 0.7303343712930012, 0.734189650059312, 0.7366362692763938, 0.7394906583629893, 0.7411773428232503, 0.7484430604982206, 0.7504819098457889, 0.7469787959667853, 0.7476460557532622, 0.7484430604982206, 0.7485357354685647, 0.7507043297746144, 0.7520388493475683, 0.7547634934756821, 0.7561536180308422, 0.7556531731909846]\n",
            "Precision: [0.5280810170691204, 0.5652300524170064, 0.5724981577008106, 0.5780119487225674, 0.5823305407463824, 0.58495719151809, 0.5879136157197146, 0.5895268177876873, 0.5971549065273494, 0.5994303797468354, 0.5960720027741875, 0.5965177418847014, 0.597087683985407, 0.5974206161511052, 0.599936507936508, 0.6012722646310432, 0.6043903220637719, 0.6060713365954159, 0.6052944007700947]\n",
            "Recall: [0.9823761774536615, 0.9829838954725008, 0.98359161349134, 0.9750329180593538, 0.9680441608427023, 0.9653600729261622, 0.9636888483743543, 0.9640939937202472, 0.960903474121341, 0.9592828927377697, 0.9575610250177251, 0.9594854654107161, 0.9614605489719437, 0.9594854654107161, 0.957054593335359, 0.9573584523447787, 0.955130152942368, 0.9534589283905601, 0.9553327256153145]\n",
            "F1-score: [0.6869101790045857, 0.717745812224975, 0.723742803376125, 0.7257751390066912, 0.7272070152745811, 0.7284887164886401, 0.7302976224742387, 0.7316576348053345, 0.7365683229813664, 0.7378179410275386, 0.7347620805564731, 0.7356669967188926, 0.7366807652011952, 0.7363532132377232, 0.7375404909651485, 0.7386394717305513, 0.7403191301446488, 0.7410745916158237, 0.7410579246135413]\n"
          ]
        }
      ]
    },
    {
      "cell_type": "code",
      "source": [
        "import matplotlib.pyplot as plt\n",
        "import numpy as np\n",
        "\n",
        "\n",
        "# Plotting the metrics\n",
        "x_values = np.arange(0.05, 1, 0.05)  # Values for the x-axis (percentage of labeled data)\n",
        "\n",
        "plt.figure(figsize=(12, 6))  # Adjust figure size as needed\n",
        "\n",
        "plt.plot(x_values, accuracy_list_st, marker='o', linestyle='-', color='blue', label='Accuracy')\n",
        "plt.plot(x_values, precision_list_st, marker='s', linestyle='-', color='green', label='Precision')\n",
        "plt.plot(x_values, recall_list_st, marker='^', linestyle='-', color='red', label='Recall')\n",
        "plt.plot(x_values, f1_list_st, marker='d', linestyle='-', color='purple', label='F1-score')\n",
        "\n",
        "plt.xticks(x_values, [f'{int(p*100)}%' for p in x_values])  # Format x-axis ticks as percentages\n",
        "plt.title('Performance Metrics for Self Training', fontsize=18)\n",
        "plt.xlabel('Percentage of Labeled Data',fontsize=16)\n",
        "plt.ylabel('Score',fontsize=16)\n",
        "plt.grid(True)\n",
        "plt.legend(fontsize=14)  # Show the legend\n",
        "plt.show()"
      ],
      "metadata": {
        "colab": {
          "base_uri": "https://localhost:8080/",
          "height": 575
        },
        "outputId": "7a0060e0-d648-4135-cece-87a1ded1d55e",
        "id": "v-LECObrzvrg"
      },
      "execution_count": null,
      "outputs": [
        {
          "output_type": "display_data",
          "data": {
            "text/plain": [
              "<Figure size 1200x600 with 1 Axes>"
            ],
            "image/png": "[encoded data removed]"
          },
          "metadata": {}
        }
      ]
    },
    {
      "cell_type": "markdown",
      "source": [
        "#TSVM\n"
      ],
      "metadata": {
        "id": "ZNeWJwVH1afd"
      }
    },
    {
      "cell_type": "code",
      "source": [
        "import numpy as np\n",
        "from sklearn.svm import SVC\n",
        "from sklearn.neighbors import KNeighborsClassifier\n",
        "from sklearn.metrics import accuracy_score\n",
        "from numpy import concatenate\n",
        "from sklearn.datasets import make_classification\n",
        "from sklearn.model_selection import train_test_split"
      ],
      "metadata": {
        "id": "Y6RvxDwmguYM"
      },
      "execution_count": null,
      "outputs": []
    },
    {
      "cell_type": "code",
      "source": [
        "# TSVM Algorithm\n",
        "def train_tsvm(X_train, y_train, clf, max_iterations, threshold):\n",
        "    for iteration in range(max_iterations):\n",
        "        #print(f\"\\nIteration {iteration + 1}/{max_iterations}\")\n",
        "\n",
        "        # Train on the current labeled data\n",
        "        clf.fit(X_train[y_train != -1], y_train[y_train != -1])\n",
        "\n",
        "        # Predict probabilities for the unlabeled data\n",
        "        probas = clf.predict_proba(X_train[y_train == -1])\n",
        "        max_probas = np.max(probas, axis=1)\n",
        "        pseudo_labels = np.argmax(probas, axis=1)\n",
        "\n",
        "        # Assign pseudo-labels to confident samples\n",
        "        confident_indices = np.where(max_probas >= threshold)[0]\n",
        "        y_train[np.where(y_train == -1)[0][confident_indices]] = pseudo_labels[confident_indices]\n",
        "\n",
        "        print(f\"Confident pseudo-labels assigned: {len(confident_indices)}\")\n",
        "\n",
        "        # If no confident samples are found, break early\n",
        "        if len(confident_indices) == 0:\n",
        "            print(\"No confident samples found. Stopping early.\")\n",
        "            break\n",
        "\n",
        "    return clf"
      ],
      "metadata": {
        "id": "MwOuFcxa56Ai"
      },
      "execution_count": null,
      "outputs": []
    },
    {
      "cell_type": "code",
      "source": [
        "from numpy import concatenate\n",
        "from sklearn.semi_supervised import SelfTrainingClassifier\n",
        "from sklearn.tree import DecisionTreeClassifier\n",
        "from sklearn.model_selection import train_test_split\n",
        "from sklearn.metrics import accuracy_score, precision_score, recall_score, f1_score\n",
        "from sklearn.neighbors import KNeighborsClassifier\n",
        "import numpy as np\n",
        "\n",
        "n = 0.05\n",
        "accuracy_list_tsvm = []\n",
        "precision_list_tsvm = []\n",
        "recall_list_tsvm = []\n",
        "f1_list_tsvm = []\n",
        "out = 1\n",
        "clf = KNeighborsClassifier(n_neighbors=10)\n",
        "\n",
        "for i in range(1, 20):\n",
        "\n",
        "    X_labeled, X_unlabeled, y_labeled, y_unlabeled = train_test_split(\n",
        "        X1, y1, train_size=n, random_state=42\n",
        "    )\n",
        "\n",
        "    nolabel = [-1 for _ in range(len(y_unlabeled))]\n",
        "    X_train_mixed = concatenate((X_labeled, X_unlabeled))\n",
        "    y_train_mixed = concatenate((y_labeled, nolabel))\n",
        "\n",
        "    trained_model = train_tsvm(X_train_mixed.copy(), y_train_mixed.copy(), clf, max_iterations=10, threshold= 0.85)\n",
        "\n",
        "    yhat = trained_model.predict(X_test_pca)\n",
        "\n",
        "\n",
        "    accuracy_list_tsvm.append(accuracy_score(y_test, yhat))\n",
        "    precision_list_tsvm.append(precision_score(y_test, yhat))\n",
        "    recall_list_tsvm.append(recall_score(y_test, yhat))\n",
        "    f1_list_tsvm.append(f1_score(y_test, yhat))\n",
        "\n",
        "    print('out:', out)\n",
        "    out = out + 1\n",
        "    n = n + 0.05\n"
      ],
      "metadata": {
        "colab": {
          "base_uri": "https://localhost:8080/"
        },
        "id": "K82pMb0YFAWn",
        "outputId": "8ff7534a-50c9-48ab-f240-7fc9b24d9266"
      },
      "execution_count": null,
      "outputs": [
        {
          "output_type": "stream",
          "name": "stdout",
          "text": [
            "Confident pseudo-labels assigned: 7459\n",
            "Confident pseudo-labels assigned: 2840\n",
            "Confident pseudo-labels assigned: 717\n",
            "Confident pseudo-labels assigned: 255\n",
            "Confident pseudo-labels assigned: 62\n",
            "Confident pseudo-labels assigned: 11\n",
            "Confident pseudo-labels assigned: 6\n",
            "Confident pseudo-labels assigned: 2\n",
            "Confident pseudo-labels assigned: 0\n",
            "No confident samples found. Stopping early.\n",
            "out: 1\n",
            "Confident pseudo-labels assigned: 7516\n",
            "Confident pseudo-labels assigned: 1974\n",
            "Confident pseudo-labels assigned: 737\n",
            "Confident pseudo-labels assigned: 350\n",
            "Confident pseudo-labels assigned: 111\n",
            "Confident pseudo-labels assigned: 38\n",
            "Confident pseudo-labels assigned: 17\n",
            "Confident pseudo-labels assigned: 10\n",
            "Confident pseudo-labels assigned: 3\n",
            "Confident pseudo-labels assigned: 2\n",
            "out: 2\n",
            "Confident pseudo-labels assigned: 7291\n",
            "Confident pseudo-labels assigned: 1489\n",
            "Confident pseudo-labels assigned: 644\n",
            "Confident pseudo-labels assigned: 259\n",
            "Confident pseudo-labels assigned: 95\n",
            "Confident pseudo-labels assigned: 49\n",
            "Confident pseudo-labels assigned: 30\n",
            "Confident pseudo-labels assigned: 17\n",
            "Confident pseudo-labels assigned: 3\n",
            "Confident pseudo-labels assigned: 1\n",
            "out: 3\n",
            "Confident pseudo-labels assigned: 7040\n",
            "Confident pseudo-labels assigned: 1163\n",
            "Confident pseudo-labels assigned: 476\n",
            "Confident pseudo-labels assigned: 224\n",
            "Confident pseudo-labels assigned: 105\n",
            "Confident pseudo-labels assigned: 45\n",
            "Confident pseudo-labels assigned: 14\n",
            "Confident pseudo-labels assigned: 7\n",
            "Confident pseudo-labels assigned: 8\n",
            "Confident pseudo-labels assigned: 3\n",
            "out: 4\n",
            "Confident pseudo-labels assigned: 6651\n",
            "Confident pseudo-labels assigned: 940\n",
            "Confident pseudo-labels assigned: 391\n",
            "Confident pseudo-labels assigned: 167\n",
            "Confident pseudo-labels assigned: 85\n",
            "Confident pseudo-labels assigned: 48\n",
            "Confident pseudo-labels assigned: 17\n",
            "Confident pseudo-labels assigned: 7\n",
            "Confident pseudo-labels assigned: 8\n",
            "Confident pseudo-labels assigned: 2\n",
            "out: 5\n",
            "Confident pseudo-labels assigned: 6264\n",
            "Confident pseudo-labels assigned: 785\n",
            "Confident pseudo-labels assigned: 306\n",
            "Confident pseudo-labels assigned: 110\n",
            "Confident pseudo-labels assigned: 56\n",
            "Confident pseudo-labels assigned: 30\n",
            "Confident pseudo-labels assigned: 20\n",
            "Confident pseudo-labels assigned: 11\n",
            "Confident pseudo-labels assigned: 6\n",
            "Confident pseudo-labels assigned: 3\n",
            "out: 6\n",
            "Confident pseudo-labels assigned: 5823\n",
            "Confident pseudo-labels assigned: 603\n",
            "Confident pseudo-labels assigned: 222\n",
            "Confident pseudo-labels assigned: 84\n",
            "Confident pseudo-labels assigned: 41\n",
            "Confident pseudo-labels assigned: 20\n",
            "Confident pseudo-labels assigned: 16\n",
            "Confident pseudo-labels assigned: 9\n",
            "Confident pseudo-labels assigned: 5\n",
            "Confident pseudo-labels assigned: 2\n",
            "out: 7\n",
            "Confident pseudo-labels assigned: 5453\n",
            "Confident pseudo-labels assigned: 486\n",
            "Confident pseudo-labels assigned: 164\n",
            "Confident pseudo-labels assigned: 68\n",
            "Confident pseudo-labels assigned: 29\n",
            "Confident pseudo-labels assigned: 21\n",
            "Confident pseudo-labels assigned: 11\n",
            "Confident pseudo-labels assigned: 3\n",
            "Confident pseudo-labels assigned: 1\n",
            "Confident pseudo-labels assigned: 0\n",
            "No confident samples found. Stopping early.\n",
            "out: 8\n",
            "Confident pseudo-labels assigned: 4969\n",
            "Confident pseudo-labels assigned: 410\n",
            "Confident pseudo-labels assigned: 158\n",
            "Confident pseudo-labels assigned: 49\n",
            "Confident pseudo-labels assigned: 22\n",
            "Confident pseudo-labels assigned: 10\n",
            "Confident pseudo-labels assigned: 14\n",
            "Confident pseudo-labels assigned: 9\n",
            "Confident pseudo-labels assigned: 5\n",
            "Confident pseudo-labels assigned: 2\n",
            "out: 9\n",
            "Confident pseudo-labels assigned: 4547\n",
            "Confident pseudo-labels assigned: 329\n",
            "Confident pseudo-labels assigned: 109\n",
            "Confident pseudo-labels assigned: 38\n",
            "Confident pseudo-labels assigned: 17\n",
            "Confident pseudo-labels assigned: 6\n",
            "Confident pseudo-labels assigned: 3\n",
            "Confident pseudo-labels assigned: 2\n",
            "Confident pseudo-labels assigned: 1\n",
            "Confident pseudo-labels assigned: 1\n",
            "out: 10\n",
            "Confident pseudo-labels assigned: 4094\n",
            "Confident pseudo-labels assigned: 252\n",
            "Confident pseudo-labels assigned: 59\n",
            "Confident pseudo-labels assigned: 17\n",
            "Confident pseudo-labels assigned: 1\n",
            "Confident pseudo-labels assigned: 0\n",
            "No confident samples found. Stopping early.\n",
            "out: 11\n",
            "Confident pseudo-labels assigned: 3640\n",
            "Confident pseudo-labels assigned: 189\n",
            "Confident pseudo-labels assigned: 44\n",
            "Confident pseudo-labels assigned: 9\n",
            "Confident pseudo-labels assigned: 3\n",
            "Confident pseudo-labels assigned: 1\n",
            "Confident pseudo-labels assigned: 0\n",
            "No confident samples found. Stopping early.\n",
            "out: 12\n",
            "Confident pseudo-labels assigned: 3175\n",
            "Confident pseudo-labels assigned: 136\n",
            "Confident pseudo-labels assigned: 36\n",
            "Confident pseudo-labels assigned: 6\n",
            "Confident pseudo-labels assigned: 1\n",
            "Confident pseudo-labels assigned: 0\n",
            "No confident samples found. Stopping early.\n",
            "out: 13\n",
            "Confident pseudo-labels assigned: 2740\n",
            "Confident pseudo-labels assigned: 105\n",
            "Confident pseudo-labels assigned: 27\n",
            "Confident pseudo-labels assigned: 4\n",
            "Confident pseudo-labels assigned: 0\n",
            "No confident samples found. Stopping early.\n",
            "out: 14\n",
            "Confident pseudo-labels assigned: 2281\n",
            "Confident pseudo-labels assigned: 65\n",
            "Confident pseudo-labels assigned: 9\n",
            "Confident pseudo-labels assigned: 1\n",
            "Confident pseudo-labels assigned: 0\n",
            "No confident samples found. Stopping early.\n",
            "out: 15\n",
            "Confident pseudo-labels assigned: 1827\n",
            "Confident pseudo-labels assigned: 42\n",
            "Confident pseudo-labels assigned: 1\n",
            "Confident pseudo-labels assigned: 0\n",
            "No confident samples found. Stopping early.\n",
            "out: 16\n",
            "Confident pseudo-labels assigned: 1358\n",
            "Confident pseudo-labels assigned: 25\n",
            "Confident pseudo-labels assigned: 2\n",
            "Confident pseudo-labels assigned: 0\n",
            "No confident samples found. Stopping early.\n",
            "out: 17\n",
            "Confident pseudo-labels assigned: 902\n",
            "Confident pseudo-labels assigned: 7\n",
            "Confident pseudo-labels assigned: 0\n",
            "No confident samples found. Stopping early.\n",
            "out: 18\n",
            "Confident pseudo-labels assigned: 453\n",
            "Confident pseudo-labels assigned: 3\n",
            "Confident pseudo-labels assigned: 0\n",
            "No confident samples found. Stopping early.\n",
            "out: 19\n"
          ]
        }
      ]
    },
    {
      "cell_type": "code",
      "source": [
        "import matplotlib.pyplot as plt\n",
        "import numpy as np\n",
        "\n",
        "\n",
        "# Plotting the metrics\n",
        "x_values = np.arange(0.05, 1, 0.05)  # Values for the x-axis (percentage of labeled data)\n",
        "\n",
        "plt.figure(figsize=(12, 6))  # Adjust figure size as needed\n",
        "\n",
        "plt.plot(x_values, accuracy_list_tsvm, marker='o', linestyle='-', color='blue', label='Accuracy')\n",
        "plt.plot(x_values, precision_list_tsvm, marker='s', linestyle='-', color='green', label='Precision')\n",
        "plt.plot(x_values, recall_list_tsvm, marker='^', linestyle='-', color='red', label='Recall')\n",
        "plt.plot(x_values, f1_list_tsvm, marker='d', linestyle='-', color='purple', label='F1-score')\n",
        "\n",
        "plt.xticks(x_values, [f'{int(p*100)}%' for p in x_values])  # Format x-axis ticks as percentages\n",
        "plt.title('Performance Metrics for TSVM',fontsize=18)\n",
        "plt.xlabel('Percentage of Labeled Data',fontsize=16)\n",
        "plt.ylabel('Score',fontsize=16)\n",
        "plt.grid(True)\n",
        "plt.legend(fontsize=14)  # Show the legend\n",
        "plt.show()"
      ],
      "metadata": {
        "colab": {
          "base_uri": "https://localhost:8080/",
          "height": 575
        },
        "id": "m1UrL6ULIR_l",
        "outputId": "6d9ec182-d30d-4321-e4dc-9455533f234c"
      },
      "execution_count": null,
      "outputs": [
        {
          "output_type": "display_data",
          "data": {
            "text/plain": [
              "<Figure size 1200x600 with 1 Axes>"
            ],
            "image/png": "[encoded data removed]"
          },
          "metadata": {}
        }
      ]
    },
    {
      "cell_type": "code",
      "source": [
        "print('Accuracy:', accuracy_list_tsvm)\n",
        "print('Precision:', precision_list_tsvm)\n",
        "print('Recall:', recall_list_tsvm)\n",
        "print('F1-score:', f1_list_tsvm)\n"
      ],
      "metadata": {
        "colab": {
          "base_uri": "https://localhost:8080/"
        },
        "id": "vENYj7FBm16W",
        "outputId": "bd7f3476-8de5-40b3-a28b-94a5b176e029"
      },
      "execution_count": null,
      "outputs": [
        {
          "output_type": "stream",
          "name": "stdout",
          "text": [
            "Accuracy: [0.680011862396204, 0.7159882858837485, 0.7237359134045077, 0.7247738730723606, 0.7285550118623962, 0.7309460260972717, 0.7342637900355872, 0.736895759193357, 0.7425674673784104, 0.7451252965599051, 0.7446804567022538, 0.7458296263345195, 0.7466822360616845, 0.7471085409252669, 0.750092674970344, 0.751779359430605, 0.7544113285883749, 0.7560424080664294, 0.7555048932384342]\n",
            "Precision: [0.5340784270650264, 0.564241103848947, 0.5708473584077272, 0.5719152935647781, 0.5757746813630826, 0.5781296683597251, 0.581389749917241, 0.5840933191940615, 0.5899775708974714, 0.5928449744463373, 0.5930149235131009, 0.5940452065471551, 0.5949220823834359, 0.5956366372014293, 0.5990260253612877, 0.6007547887859952, 0.6037567084078712, 0.6057772636720005, 0.6050649142490784]\n",
            "Recall: [0.9849589790337283, 0.9836928998278133, 0.987693710118505, 0.9861237719031702, 0.9814646004254026, 0.9799453053783045, 0.9783753671629697, 0.9762989972652689, 0.9724501164792869, 0.9693102400486174, 0.9639420642155373, 0.9649549275802695, 0.964752354907323, 0.962321482831966, 0.9593335359060062, 0.9593335359060062, 0.9571558796718322, 0.9547756507647118, 0.9558898004659171]\n",
            "F1-score: [0.69260353975998, 0.7171364752358272, 0.7235258110589675, 0.7239603665904486, 0.7257747401928658, 0.7272248947684907, 0.7293629070316187, 0.7309055752497583, 0.7344003977587823, 0.7357152466798639, 0.7342939258916343, 0.735377549642037, 0.7359901095292368, 0.7358271375464684, 0.7375265237789328, 0.7388353679940716, 0.7404505386875612, 0.7412518675788314, 0.7410533754735871]\n"
          ]
        }
      ]
    },
    {
      "cell_type": "markdown",
      "source": [
        "#Plotting three graphs together"
      ],
      "metadata": {
        "id": "XkY3QRobJ2ue"
      }
    },
    {
      "cell_type": "code",
      "source": [
        "import matplotlib.pyplot as plt\n",
        "import numpy as np\n",
        "\n",
        "# Assuming score_list, score_list_st, and score_list_tsvm are already populated\n",
        "\n",
        "plt.figure(figsize=(12, 6))\n",
        "x_values = np.arange(0.05, 1, 0.05)\n",
        "\n",
        "# Plot Label Spreading (Green)\n",
        "plt.plot(x_values, accuracy_list_lb, marker='o', linestyle='-', color='green', label='Label Spreading')\n",
        "\n",
        "# Plot Self-Training (Blue)\n",
        "plt.plot(x_values, accuracy_list_st, marker='o', linestyle='-', color='blue', label='Self-Training')\n",
        "\n",
        "# Plot TSVM (Orange)\n",
        "plt.plot(x_values, accuracy_list_tsvm, marker='o', linestyle='-', color='orange', label='TSVM')\n",
        "\n",
        "# Customize the plot\n",
        "plt.xticks(x_values, [f'{int(p*100)}%' for p in x_values])\n",
        "plt.title('Accuracy Scores of Semi-Supervised Learning Methods',fontsize=18)\n",
        "plt.xlabel('Percentage of Labeled Data',fontsize=16)\n",
        "plt.ylabel('Accuracy',fontsize=16)\n",
        "plt.grid(True)\n",
        "plt.legend(fontsize=14) # Show the legend to identify each line\n",
        "plt.show()"
      ],
      "metadata": {
        "colab": {
          "base_uri": "https://localhost:8080/",
          "height": 575
        },
        "id": "0xRjg5WgJ6oi",
        "outputId": "17b05c5a-16eb-48f1-a3dc-bb55ca62a30e"
      },
      "execution_count": null,
      "outputs": [
        {
          "output_type": "display_data",
          "data": {
            "text/plain": [
              "<Figure size 1200x600 with 1 Axes>"
            ],
            "image/png": "[encoded data removed]"
          },
          "metadata": {}
        }
      ]
    },
    {
      "cell_type": "markdown",
      "source": [
        "#END"
      ],
      "metadata": {
        "id": "fn9Cz3_lcykn"
      }
    },
    {
      "cell_type": "code",
      "source": [],
      "metadata": {
        "id": "JhDuQaKkc1ke"
      },
      "execution_count": null,
      "outputs": []
    }
  ]
}